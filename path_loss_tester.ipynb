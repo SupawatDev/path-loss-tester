{
  "nbformat": 4,
  "nbformat_minor": 0,
  "metadata": {
    "colab": {
      "name": "path_loss_tester.ipynb",
      "provenance": [],
      "collapsed_sections": [],
      "toc_visible": true,
      "authorship_tag": "ABX9TyOmsXmg6WP/SIMAagPeGVwm",
      "include_colab_link": true
    },
    "kernelspec": {
      "name": "python3",
      "display_name": "Python 3"
    }
  },
  "cells": [
    {
      "cell_type": "markdown",
      "metadata": {
        "id": "view-in-github",
        "colab_type": "text"
      },
      "source": [
        "<a href=\"https://colab.research.google.com/github/SupawatDev/path-loss-tester/blob/master/path_loss_tester.ipynb\" target=\"_parent\"><img src=\"https://colab.research.google.com/assets/colab-badge.svg\" alt=\"Open In Colab\"/></a>"
      ]
    },
    {
      "cell_type": "markdown",
      "metadata": {
        "id": "vnf8o_KJuZVC"
      },
      "source": [
        "# Path Loss Tester\n",
        "Path Loss tester is a tool to verify the result of electromagnetic propagation loss from the generated data from WCsim."
      ]
    },
    {
      "cell_type": "code",
      "metadata": {
        "id": "DndhD5UQt6l5"
      },
      "source": [
        "from google.colab import files\n",
        "from math import pi, log10, cos, sin, asin\n",
        "import numpy as np\n",
        "import pandas as pd\n",
        "import io\n",
        "c = 3e8"
      ],
      "execution_count": 2,
      "outputs": []
    },
    {
      "cell_type": "markdown",
      "metadata": {
        "id": "PKult7yAxmTO"
      },
      "source": [
        "### Import the data"
      ]
    },
    {
      "cell_type": "code",
      "metadata": {
        "id": "Y1TNqe1Rve_9",
        "outputId": "95da15e8-2574-4535-9a76-65fcde9acd42",
        "colab": {
          "resources": {
            "http://localhost:8080/nbextensions/google.colab/files.js": {
              "data": "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",
              "ok": true,
              "headers": [
                [
                  "content-type",
                  "application/javascript"
                ]
              ],
              "status": 200,
              "status_text": ""
            }
          },
          "base_uri": "https://localhost:8080/",
          "height": 194
        }
      },
      "source": [
        "print(\"Upload files.\")\n",
        "upload = files.upload()"
      ],
      "execution_count": 3,
      "outputs": [
        {
          "output_type": "stream",
          "text": [
            "Upload files.\n"
          ],
          "name": "stdout"
        },
        {
          "output_type": "display_data",
          "data": {
            "text/html": [
              "\n",
              "     <input type=\"file\" id=\"files-c1b78ec8-fbe2-4a30-9dc7-08660243599d\" name=\"files[]\" multiple disabled\n",
              "        style=\"border:none\" />\n",
              "     <output id=\"result-c1b78ec8-fbe2-4a30-9dc7-08660243599d\">\n",
              "      Upload widget is only available when the cell has been executed in the\n",
              "      current browser session. Please rerun this cell to enable.\n",
              "      </output>\n",
              "      <script src=\"/nbextensions/google.colab/files.js\"></script> "
            ],
            "text/plain": [
              "<IPython.core.display.HTML object>"
            ]
          },
          "metadata": {
            "tags": []
          }
        },
        {
          "output_type": "stream",
          "text": [
            "Saving direct_path.csv to direct_path.csv\n",
            "Saving reflection.csv to reflection.csv\n",
            "Saving single-edge.csv to single-edge.csv\n",
            "Saving multiple-edges.csv to multiple-edges.csv\n"
          ],
          "name": "stdout"
        }
      ]
    },
    {
      "cell_type": "code",
      "metadata": {
        "id": "dk60L8AjwWdz",
        "outputId": "77412be1-0be3-4b1e-c48f-3b142c40e517",
        "colab": {
          "base_uri": "https://localhost:8080/",
          "height": 197
        }
      },
      "source": [
        "#Load .csv data to Pandas\n",
        "direct_data = pd.read_csv(io.BytesIO(upload['direct_path.csv']))\n",
        "ref_data = pd.read_csv(io.BytesIO(upload['reflection.csv']))\n",
        "single_edge_data = pd.read_csv(io.BytesIO(upload['single-edge.csv']))\n",
        "multi_edges_data = pd.read_csv(io.BytesIO(upload['multiple-edges.csv']))\n",
        "direct_data.head()"
      ],
      "execution_count": 4,
      "outputs": [
        {
          "output_type": "execute_result",
          "data": {
            "text/html": [
              "<div>\n",
              "<style scoped>\n",
              "    .dataframe tbody tr th:only-of-type {\n",
              "        vertical-align: middle;\n",
              "    }\n",
              "\n",
              "    .dataframe tbody tr th {\n",
              "        vertical-align: top;\n",
              "    }\n",
              "\n",
              "    .dataframe thead th {\n",
              "        text-align: right;\n",
              "    }\n",
              "</style>\n",
              "<table border=\"1\" class=\"dataframe\">\n",
              "  <thead>\n",
              "    <tr style=\"text-align: right;\">\n",
              "      <th></th>\n",
              "      <th>tx_x_pos</th>\n",
              "      <th>tx_y_pos</th>\n",
              "      <th>tx_z_pos</th>\n",
              "      <th>tx_freq</th>\n",
              "      <th>rx_x_pos</th>\n",
              "      <th>rx_y_pos</th>\n",
              "      <th>rx_z_pos</th>\n",
              "      <th>distance</th>\n",
              "      <th>path_loss_dB</th>\n",
              "    </tr>\n",
              "  </thead>\n",
              "  <tbody>\n",
              "    <tr>\n",
              "      <th>0</th>\n",
              "      <td>0</td>\n",
              "      <td>5</td>\n",
              "      <td>0</td>\n",
              "      <td>2.300000e+09</td>\n",
              "      <td>34</td>\n",
              "      <td>1.5</td>\n",
              "      <td>-59</td>\n",
              "      <td>68.1854</td>\n",
              "      <td>76.3502</td>\n",
              "    </tr>\n",
              "    <tr>\n",
              "      <th>1</th>\n",
              "      <td>0</td>\n",
              "      <td>5</td>\n",
              "      <td>0</td>\n",
              "      <td>2.300000e+09</td>\n",
              "      <td>24</td>\n",
              "      <td>1.5</td>\n",
              "      <td>0</td>\n",
              "      <td>24.2539</td>\n",
              "      <td>67.3719</td>\n",
              "    </tr>\n",
              "    <tr>\n",
              "      <th>2</th>\n",
              "      <td>0</td>\n",
              "      <td>5</td>\n",
              "      <td>0</td>\n",
              "      <td>2.300000e+09</td>\n",
              "      <td>42</td>\n",
              "      <td>1.5</td>\n",
              "      <td>-9</td>\n",
              "      <td>43.0958</td>\n",
              "      <td>72.3650</td>\n",
              "    </tr>\n",
              "    <tr>\n",
              "      <th>3</th>\n",
              "      <td>0</td>\n",
              "      <td>5</td>\n",
              "      <td>0</td>\n",
              "      <td>2.300000e+09</td>\n",
              "      <td>-5</td>\n",
              "      <td>1.5</td>\n",
              "      <td>16</td>\n",
              "      <td>17.1245</td>\n",
              "      <td>64.3487</td>\n",
              "    </tr>\n",
              "    <tr>\n",
              "      <th>4</th>\n",
              "      <td>0</td>\n",
              "      <td>5</td>\n",
              "      <td>0</td>\n",
              "      <td>2.300000e+09</td>\n",
              "      <td>12</td>\n",
              "      <td>1.5</td>\n",
              "      <td>38</td>\n",
              "      <td>40.0031</td>\n",
              "      <td>71.7182</td>\n",
              "    </tr>\n",
              "  </tbody>\n",
              "</table>\n",
              "</div>"
            ],
            "text/plain": [
              "   tx_x_pos   tx_y_pos   tx_z_pos  ...   rx_z_pos   distance   path_loss_dB\n",
              "0         0          5          0  ...        -59    68.1854        76.3502\n",
              "1         0          5          0  ...          0    24.2539        67.3719\n",
              "2         0          5          0  ...         -9    43.0958        72.3650\n",
              "3         0          5          0  ...         16    17.1245        64.3487\n",
              "4         0          5          0  ...         38    40.0031        71.7182\n",
              "\n",
              "[5 rows x 9 columns]"
            ]
          },
          "metadata": {
            "tags": []
          },
          "execution_count": 4
        }
      ]
    },
    {
      "cell_type": "markdown",
      "metadata": {
        "id": "gwWD20J9xzWq"
      },
      "source": [
        "## Direct Path Verification"
      ]
    },
    {
      "cell_type": "markdown",
      "metadata": {
        "id": "bBnrRUV8JF5Q"
      },
      "source": [
        "\\begin{equation}\n",
        "Loss_{direct} = (\\frac{4\\pi d_1}{\\lambda})^2\n",
        "\\end{equation}"
      ]
    },
    {
      "cell_type": "code",
      "metadata": {
        "id": "J4a3hhCJ02Fj"
      },
      "source": [
        "# Function for calculating direct path loss of radio wave propagation.\n",
        "def DirectPath(tx_positions, frequencies, rx_positions):\n",
        "  distance = np.sqrt(np.sum((tx_positions-rx_positions)**2, axis=1))\n",
        "  wave_length = c/frequencies\n",
        "  distance = np.reshape(distance, (-1,1))\n",
        "  wave_length = np.reshape(wave_length, (-1,1))\n",
        "  path_loss = (4*pi*distance/wave_length)**2 # <---- Formula\n",
        "  return 10*np.log10(path_loss)"
      ],
      "execution_count": 5,
      "outputs": []
    },
    {
      "cell_type": "code",
      "metadata": {
        "id": "yyBMpCOIxUmz",
        "outputId": "b858b9f7-6506-470c-b60e-983f09b7b2a9",
        "colab": {
          "base_uri": "https://localhost:8080/",
          "height": 215
        }
      },
      "source": [
        "tx_positions = direct_data.iloc[:,0:3].to_numpy()\n",
        "tx_frequencies = direct_data.iloc[:,3:4].to_numpy()\n",
        "rx_positions = direct_data.iloc[:,4:7].to_numpy()\n",
        "computed_result = DirectPath(tx_positions, tx_frequencies, rx_positions).reshape(-1,1)\n",
        "reference_result = direct_data.iloc[:,-1].to_numpy().reshape((-1,1))\n",
        "# Round to 1 digit because the PI value in simulator is not accurate.\n",
        "check_table = pd.DataFrame( {'com':computed_result.ravel(), 'ref': reference_result.ravel()})\n",
        "assert (np.round(computed_result, 1) == np.round(reference_result, 1)).all()\n",
        "print(\"Direct Path Results are correct.\")\n",
        "check_table.head()"
      ],
      "execution_count": 6,
      "outputs": [
        {
          "output_type": "stream",
          "text": [
            "Direct Path Results are correct.\n"
          ],
          "name": "stdout"
        },
        {
          "output_type": "execute_result",
          "data": {
            "text/html": [
              "<div>\n",
              "<style scoped>\n",
              "    .dataframe tbody tr th:only-of-type {\n",
              "        vertical-align: middle;\n",
              "    }\n",
              "\n",
              "    .dataframe tbody tr th {\n",
              "        vertical-align: top;\n",
              "    }\n",
              "\n",
              "    .dataframe thead th {\n",
              "        text-align: right;\n",
              "    }\n",
              "</style>\n",
              "<table border=\"1\" class=\"dataframe\">\n",
              "  <thead>\n",
              "    <tr style=\"text-align: right;\">\n",
              "      <th></th>\n",
              "      <th>com</th>\n",
              "      <th>ref</th>\n",
              "    </tr>\n",
              "  </thead>\n",
              "  <tbody>\n",
              "    <tr>\n",
              "      <th>0</th>\n",
              "      <td>76.350158</td>\n",
              "      <td>76.3502</td>\n",
              "    </tr>\n",
              "    <tr>\n",
              "      <th>1</th>\n",
              "      <td>67.371948</td>\n",
              "      <td>67.3719</td>\n",
              "    </tr>\n",
              "    <tr>\n",
              "      <th>2</th>\n",
              "      <td>72.365033</td>\n",
              "      <td>72.3650</td>\n",
              "    </tr>\n",
              "    <tr>\n",
              "      <th>3</th>\n",
              "      <td>64.348709</td>\n",
              "      <td>64.3487</td>\n",
              "    </tr>\n",
              "    <tr>\n",
              "      <th>4</th>\n",
              "      <td>71.718207</td>\n",
              "      <td>71.7182</td>\n",
              "    </tr>\n",
              "  </tbody>\n",
              "</table>\n",
              "</div>"
            ],
            "text/plain": [
              "         com      ref\n",
              "0  76.350158  76.3502\n",
              "1  67.371948  67.3719\n",
              "2  72.365033  72.3650\n",
              "3  64.348709  64.3487\n",
              "4  71.718207  71.7182"
            ]
          },
          "metadata": {
            "tags": []
          },
          "execution_count": 6
        }
      ]
    },
    {
      "cell_type": "markdown",
      "metadata": {
        "id": "SsiCvX6u_mts"
      },
      "source": [
        "## Reflection Verification"
      ]
    },
    {
      "cell_type": "markdown",
      "metadata": {
        "id": "0ksk1YH0BtAR"
      },
      "source": [
        "### Reflection Coefficient"
      ]
    },
    {
      "cell_type": "markdown",
      "metadata": {
        "id": "dpk-edvvJpYn"
      },
      "source": [
        "\\begin{equation}\n",
        "  \\Gamma_{TE} = \n",
        "  \\begin{cases}\n",
        "    1 , & \\text{ where \\( \\sqrt{\\vert \\frac{n_1}{n_2} \\vert sin\\theta_1 } >=1 \\) } \\\\\n",
        "         \\frac {\\sqrt{n_2} cos(\\theta_1) - \\sqrt{n_2} cos(\\theta_2)}\n",
        "          {\\sqrt{n_1} cos(\\theta_1) + \\sqrt{n_2} cos(\\theta_2)} , &  \\text{ else }\n",
        "  \\end{cases}\n",
        "\\end{equation}\n"
      ]
    },
    {
      "cell_type": "markdown",
      "metadata": {
        "id": "C2CXs_9rKseB"
      },
      "source": [
        "\\begin{equation}\n",
        "  \\Gamma_{TM} =\n",
        "\\end{equation}"
      ]
    },
    {
      "cell_type": "code",
      "metadata": {
        "id": "qXcLWuqYHygy",
        "outputId": "47313a74-144b-4aa7-ae80-e4e3abb7af3d",
        "colab": {
          "base_uri": "https://localhost:8080/",
          "height": 197
        }
      },
      "source": [
        "ref_data.head()"
      ],
      "execution_count": null,
      "outputs": [
        {
          "output_type": "execute_result",
          "data": {
            "text/html": [
              "<div>\n",
              "<style scoped>\n",
              "    .dataframe tbody tr th:only-of-type {\n",
              "        vertical-align: middle;\n",
              "    }\n",
              "\n",
              "    .dataframe tbody tr th {\n",
              "        vertical-align: top;\n",
              "    }\n",
              "\n",
              "    .dataframe thead th {\n",
              "        text-align: right;\n",
              "    }\n",
              "</style>\n",
              "<table border=\"1\" class=\"dataframe\">\n",
              "  <thead>\n",
              "    <tr style=\"text-align: right;\">\n",
              "      <th></th>\n",
              "      <th>tx_x_pos</th>\n",
              "      <th>tx_y_pos</th>\n",
              "      <th>tx_z_pos</th>\n",
              "      <th>tx_freq</th>\n",
              "      <th>rx_x_pos</th>\n",
              "      <th>rx_y_pos</th>\n",
              "      <th>rx_z_pos</th>\n",
              "      <th>ref_x_pos</th>\n",
              "      <th>ref_y_pos</th>\n",
              "      <th>ref_z_pos</th>\n",
              "      <th>tm_or_te</th>\n",
              "      <th>ref_coeff</th>\n",
              "      <th>d1</th>\n",
              "      <th>d2</th>\n",
              "      <th>angle2norm_deg</th>\n",
              "      <th>ref_loss_dB</th>\n",
              "    </tr>\n",
              "  </thead>\n",
              "  <tbody>\n",
              "    <tr>\n",
              "      <th>0</th>\n",
              "      <td>0</td>\n",
              "      <td>5</td>\n",
              "      <td>0</td>\n",
              "      <td>2.300000e+09</td>\n",
              "      <td>34</td>\n",
              "      <td>1.5</td>\n",
              "      <td>-59</td>\n",
              "      <td>36.1217</td>\n",
              "      <td>2.834910</td>\n",
              "      <td>-30.0909</td>\n",
              "      <td>E</td>\n",
              "      <td>-0.646290</td>\n",
              "      <td>47.0630</td>\n",
              "      <td>29.01760</td>\n",
              "      <td>62.83030</td>\n",
              "      <td>81.0933</td>\n",
              "    </tr>\n",
              "    <tr>\n",
              "      <th>1</th>\n",
              "      <td>0</td>\n",
              "      <td>5</td>\n",
              "      <td>0</td>\n",
              "      <td>2.300000e+09</td>\n",
              "      <td>34</td>\n",
              "      <td>1.5</td>\n",
              "      <td>-59</td>\n",
              "      <td>26.1838</td>\n",
              "      <td>0.010512</td>\n",
              "      <td>-45.4366</td>\n",
              "      <td>E</td>\n",
              "      <td>-0.912804</td>\n",
              "      <td>52.6779</td>\n",
              "      <td>15.72510</td>\n",
              "      <td>84.56490</td>\n",
              "      <td>77.1703</td>\n",
              "    </tr>\n",
              "    <tr>\n",
              "      <th>2</th>\n",
              "      <td>0</td>\n",
              "      <td>5</td>\n",
              "      <td>0</td>\n",
              "      <td>2.300000e+09</td>\n",
              "      <td>24</td>\n",
              "      <td>1.5</td>\n",
              "      <td>0</td>\n",
              "      <td>64.1040</td>\n",
              "      <td>2.846930</td>\n",
              "      <td>0.0000</td>\n",
              "      <td>E</td>\n",
              "      <td>-0.394866</td>\n",
              "      <td>64.1402</td>\n",
              "      <td>40.12660</td>\n",
              "      <td>1.92368</td>\n",
              "      <td>88.1103</td>\n",
              "    </tr>\n",
              "    <tr>\n",
              "      <th>3</th>\n",
              "      <td>0</td>\n",
              "      <td>5</td>\n",
              "      <td>0</td>\n",
              "      <td>2.300000e+09</td>\n",
              "      <td>24</td>\n",
              "      <td>1.5</td>\n",
              "      <td>0</td>\n",
              "      <td>18.4833</td>\n",
              "      <td>0.010678</td>\n",
              "      <td>0.0000</td>\n",
              "      <td>E</td>\n",
              "      <td>-0.778438</td>\n",
              "      <td>19.1448</td>\n",
              "      <td>5.71422</td>\n",
              "      <td>74.89300</td>\n",
              "      <td>69.7615</td>\n",
              "    </tr>\n",
              "    <tr>\n",
              "      <th>4</th>\n",
              "      <td>0</td>\n",
              "      <td>5</td>\n",
              "      <td>0</td>\n",
              "      <td>2.300000e+09</td>\n",
              "      <td>42</td>\n",
              "      <td>1.5</td>\n",
              "      <td>-9</td>\n",
              "      <td>41.3905</td>\n",
              "      <td>1.596380</td>\n",
              "      <td>-10.0407</td>\n",
              "      <td>E</td>\n",
              "      <td>-0.568004</td>\n",
              "      <td>42.7267</td>\n",
              "      <td>1.20995</td>\n",
              "      <td>53.49560</td>\n",
              "      <td>77.4458</td>\n",
              "    </tr>\n",
              "  </tbody>\n",
              "</table>\n",
              "</div>"
            ],
            "text/plain": [
              "   tx_x_pos   tx_y_pos   tx_z_pos  ...        d2   angle2norm_deg   ref_loss_dB\n",
              "0         0          5          0  ...  29.01760         62.83030       81.0933\n",
              "1         0          5          0  ...  15.72510         84.56490       77.1703\n",
              "2         0          5          0  ...  40.12660          1.92368       88.1103\n",
              "3         0          5          0  ...   5.71422         74.89300       69.7615\n",
              "4         0          5          0  ...   1.20995         53.49560       77.4458\n",
              "\n",
              "[5 rows x 16 columns]"
            ]
          },
          "metadata": {
            "tags": []
          },
          "execution_count": 191
        }
      ]
    },
    {
      "cell_type": "code",
      "metadata": {
        "id": "yiPg9RY6HmmT"
      },
      "source": [
        "tx_positions = ref_data.iloc[:,0:3].to_numpy().reshape((-1,3))\n",
        "tx_frequencies = ref_data.iloc[:,3:4].to_numpy().reshape((-1,1))\n",
        "rx_positions = ref_data.iloc[:,4:7].to_numpy().reshape((-1, 3))\n",
        "ref_positions = ref_data.iloc[:,7:10].to_numpy().reshape((-1,3))\n",
        "angles = ref_data.iloc[:, -2:-1].to_numpy().reshape((-1, 1))"
      ],
      "execution_count": 66,
      "outputs": []
    },
    {
      "cell_type": "code",
      "metadata": {
        "id": "oQuMm5gH__rV"
      },
      "source": [
        "def ReflectionCoefficient(tx_positions, rx_positions, angle2norm_deg, n_1, n_2, polar):\n",
        "  angle_1 = np.radians(angle2norm_deg)\n",
        "\n",
        "  c1, c2 = c/np.sqrt(n_1), c/np.sqrt(n_2)\n",
        "  angle_2 = np.arcsin(c2*np.sin(angle_1)/c1)\n",
        "\n",
        "  if polar == 'TE':\n",
        "    answer = (np.sqrt(n_1)*np.cos(angle_1) - np.sqrt(n_2)*np.cos(angle_2))/ \\\n",
        "           (np.sqrt(n_1)*np.cos(angle_1) + np.sqrt(n_2)*np.cos(angle_2))\n",
        "\n",
        "  if polar == 'TM':\n",
        "    answer = (np.sqrt(n_2)*np.cos(angle_1) - np.sqrt(n_1)*np.cos(angle_2))/ \\\n",
        "           (np.sqrt(n_2)*np.cos(angle_1) + np.sqrt(n_1)*np.cos(angle_2))\n",
        "\n",
        "  for i in range(len(tx_positions)):\n",
        "    if np.sqrt(np.abs(n_1/n_2)*np.sin(angle_1[i]) ) >= 1:\n",
        "      answer[i] = 1\n",
        "\n",
        "  return answer"
      ],
      "execution_count": 8,
      "outputs": []
    },
    {
      "cell_type": "code",
      "metadata": {
        "id": "db5poP_lv7Sx"
      },
      "source": [
        "angles = ref_data.iloc[:, -2:-1].to_numpy().reshape((-1, 1))"
      ],
      "execution_count": 9,
      "outputs": []
    },
    {
      "cell_type": "code",
      "metadata": {
        "id": "ZQCCUEBownyJ",
        "outputId": "16f32b9c-b9b6-4508-d864-50d4f531894e",
        "colab": {
          "base_uri": "https://localhost:8080/",
          "height": 215
        }
      },
      "source": [
        "computed_refl_coe = ReflectionCoefficient(tx_positions, rx_positions, angles, 1.0003, 5.31, 'TE' ).reshape((-1,1))\n",
        "ref_refl_coe = ref_data.iloc[:,-5].to_numpy().reshape((-1,1))\n",
        "check_table = pd.DataFrame( {'computed coefficients':computed_refl_coe.ravel(), 'reference coefficients': ref_refl_coe.ravel()})\n",
        "assert (np.round(computed_refl_coe,2) == np.round(ref_refl_coe,2)).all()\n",
        "print(\"Reflection Coefficient Results are correct.\")\n",
        "check_table.head()"
      ],
      "execution_count": 10,
      "outputs": [
        {
          "output_type": "stream",
          "text": [
            "Reflection Coefficient Results are correct.\n"
          ],
          "name": "stdout"
        },
        {
          "output_type": "execute_result",
          "data": {
            "text/html": [
              "<div>\n",
              "<style scoped>\n",
              "    .dataframe tbody tr th:only-of-type {\n",
              "        vertical-align: middle;\n",
              "    }\n",
              "\n",
              "    .dataframe tbody tr th {\n",
              "        vertical-align: top;\n",
              "    }\n",
              "\n",
              "    .dataframe thead th {\n",
              "        text-align: right;\n",
              "    }\n",
              "</style>\n",
              "<table border=\"1\" class=\"dataframe\">\n",
              "  <thead>\n",
              "    <tr style=\"text-align: right;\">\n",
              "      <th></th>\n",
              "      <th>computed coefficient</th>\n",
              "      <th>reference coefficient</th>\n",
              "    </tr>\n",
              "  </thead>\n",
              "  <tbody>\n",
              "    <tr>\n",
              "      <th>0</th>\n",
              "      <td>-0.646290</td>\n",
              "      <td>-0.646290</td>\n",
              "    </tr>\n",
              "    <tr>\n",
              "      <th>1</th>\n",
              "      <td>-0.912805</td>\n",
              "      <td>-0.912804</td>\n",
              "    </tr>\n",
              "    <tr>\n",
              "      <th>2</th>\n",
              "      <td>-0.394866</td>\n",
              "      <td>-0.394866</td>\n",
              "    </tr>\n",
              "    <tr>\n",
              "      <th>3</th>\n",
              "      <td>-0.778438</td>\n",
              "      <td>-0.778438</td>\n",
              "    </tr>\n",
              "    <tr>\n",
              "      <th>4</th>\n",
              "      <td>-0.568004</td>\n",
              "      <td>-0.568004</td>\n",
              "    </tr>\n",
              "  </tbody>\n",
              "</table>\n",
              "</div>"
            ],
            "text/plain": [
              "   computed coefficient  reference coefficient\n",
              "0             -0.646290              -0.646290\n",
              "1             -0.912805              -0.912804\n",
              "2             -0.394866              -0.394866\n",
              "3             -0.778438              -0.778438\n",
              "4             -0.568004              -0.568004"
            ]
          },
          "metadata": {
            "tags": []
          },
          "execution_count": 10
        }
      ]
    },
    {
      "cell_type": "markdown",
      "metadata": {
        "id": "4LlvnUpZ-VQJ"
      },
      "source": [
        "### Reflection Loss\n",
        "\\begin{equation}\n",
        "Loss_{reflect} = (\\frac{4\\pi (d_1+d_2)}{\\lambda \\Gamma})^2\n",
        "\\end{equation}"
      ]
    },
    {
      "cell_type": "code",
      "metadata": {
        "id": "wlrcGgN4AXoZ"
      },
      "source": [
        "def ReflectionLoss(tx_positions, frequencies, rx_positions, ref_positions,  ref_coefficients):\n",
        "  d_1 = np.sqrt(np.sum((tx_positions-ref_positions)**2, axis=1))\n",
        "  d_2 = np.sqrt(np.sum((rx_positions-ref_positions)**2, axis=1))\n",
        "  wave_lengthes = c/frequencies\n",
        "  loss = (4*pi*(d_1+d_2)/np.multiply(wave_lengthes.ravel(),ref_coefficients.ravel()))**2\n",
        "  return 10*np.log10(loss)"
      ],
      "execution_count": 11,
      "outputs": []
    },
    {
      "cell_type": "code",
      "metadata": {
        "id": "8wiThtnhB3md",
        "outputId": "8f66501e-c46f-4225-a9e6-8e5c47e4f56f",
        "colab": {
          "base_uri": "https://localhost:8080/",
          "height": 215
        }
      },
      "source": [
        "computed_reflection_loss = ReflectionLoss(tx_positions, tx_frequencies, rx_positions, ref_positions, computed_refl_coe)\n",
        "ref_reflection_loss = ref_data.iloc[:, -1].to_numpy()\n",
        "ref_loss_table = pd.DataFrame( {'computed result [dB]':computed_reflection_loss.ravel(), 'reference result [dB]': ref_reflection_loss.ravel()})\n",
        "assert (np.round(computed_reflection_loss, 1) == np.round(ref_reflection_loss,1) ).all()\n",
        "print(\"Reflection Loss Result are correct\")\n",
        "ref_loss_table.head()"
      ],
      "execution_count": 12,
      "outputs": [
        {
          "output_type": "stream",
          "text": [
            "Reflection Loss Result are correct\n"
          ],
          "name": "stdout"
        },
        {
          "output_type": "execute_result",
          "data": {
            "text/html": [
              "<div>\n",
              "<style scoped>\n",
              "    .dataframe tbody tr th:only-of-type {\n",
              "        vertical-align: middle;\n",
              "    }\n",
              "\n",
              "    .dataframe tbody tr th {\n",
              "        vertical-align: top;\n",
              "    }\n",
              "\n",
              "    .dataframe thead th {\n",
              "        text-align: right;\n",
              "    }\n",
              "</style>\n",
              "<table border=\"1\" class=\"dataframe\">\n",
              "  <thead>\n",
              "    <tr style=\"text-align: right;\">\n",
              "      <th></th>\n",
              "      <th>computed result [dB]</th>\n",
              "      <th>reference result [dB]</th>\n",
              "    </tr>\n",
              "  </thead>\n",
              "  <tbody>\n",
              "    <tr>\n",
              "      <th>0</th>\n",
              "      <td>81.093258</td>\n",
              "      <td>81.0933</td>\n",
              "    </tr>\n",
              "    <tr>\n",
              "      <th>1</th>\n",
              "      <td>77.170282</td>\n",
              "      <td>77.1703</td>\n",
              "    </tr>\n",
              "    <tr>\n",
              "      <th>2</th>\n",
              "      <td>88.110253</td>\n",
              "      <td>88.1103</td>\n",
              "    </tr>\n",
              "    <tr>\n",
              "      <th>3</th>\n",
              "      <td>69.761543</td>\n",
              "      <td>69.7615</td>\n",
              "    </tr>\n",
              "    <tr>\n",
              "      <th>4</th>\n",
              "      <td>77.445838</td>\n",
              "      <td>77.4458</td>\n",
              "    </tr>\n",
              "  </tbody>\n",
              "</table>\n",
              "</div>"
            ],
            "text/plain": [
              "   computed result [dB]  reference result [dB]\n",
              "0             81.093258                81.0933\n",
              "1             77.170282                77.1703\n",
              "2             88.110253                88.1103\n",
              "3             69.761543                69.7615\n",
              "4             77.445838                77.4458"
            ]
          },
          "metadata": {
            "tags": []
          },
          "execution_count": 12
        }
      ]
    },
    {
      "cell_type": "markdown",
      "metadata": {
        "id": "p8SX-h4MGTZO"
      },
      "source": [
        "## Diffraction Verification"
      ]
    },
    {
      "cell_type": "code",
      "metadata": {
        "id": "T8Gmt4QFGxnq",
        "outputId": "4ee80989-34b0-4d24-ac87-6d8f84acc32a",
        "colab": {
          "base_uri": "https://localhost:8080/",
          "height": 197
        }
      },
      "source": [
        "single_edge_data.head()"
      ],
      "execution_count": 13,
      "outputs": [
        {
          "output_type": "execute_result",
          "data": {
            "text/html": [
              "<div>\n",
              "<style scoped>\n",
              "    .dataframe tbody tr th:only-of-type {\n",
              "        vertical-align: middle;\n",
              "    }\n",
              "\n",
              "    .dataframe tbody tr th {\n",
              "        vertical-align: top;\n",
              "    }\n",
              "\n",
              "    .dataframe thead th {\n",
              "        text-align: right;\n",
              "    }\n",
              "</style>\n",
              "<table border=\"1\" class=\"dataframe\">\n",
              "  <thead>\n",
              "    <tr style=\"text-align: right;\">\n",
              "      <th></th>\n",
              "      <th>tx_x_pos</th>\n",
              "      <th>tx_y_pos</th>\n",
              "      <th>tx_z_pos</th>\n",
              "      <th>tx_freq</th>\n",
              "      <th>rx_x_pos</th>\n",
              "      <th>rx_y_pos</th>\n",
              "      <th>rx_z_pos</th>\n",
              "      <th>edge_x_pos</th>\n",
              "      <th>edge_y_pos</th>\n",
              "      <th>edge_z_pos</th>\n",
              "      <th>d1</th>\n",
              "      <th>d2</th>\n",
              "      <th>v</th>\n",
              "      <th>diff_loss_dB</th>\n",
              "      <th>free_space_loss</th>\n",
              "      <th>total_loss_dB</th>\n",
              "    </tr>\n",
              "  </thead>\n",
              "  <tbody>\n",
              "    <tr>\n",
              "      <th>0</th>\n",
              "      <td>0</td>\n",
              "      <td>5</td>\n",
              "      <td>0</td>\n",
              "      <td>2.300000e+09</td>\n",
              "      <td>62</td>\n",
              "      <td>1.5</td>\n",
              "      <td>-22</td>\n",
              "      <td>49.2605</td>\n",
              "      <td>32.1573</td>\n",
              "      <td>-17.4795</td>\n",
              "      <td>58.9037</td>\n",
              "      <td>33.5053</td>\n",
              "      <td>21.3885</td>\n",
              "      <td>39.4883</td>\n",
              "      <td>76.0515</td>\n",
              "      <td>115.540</td>\n",
              "    </tr>\n",
              "    <tr>\n",
              "      <th>1</th>\n",
              "      <td>0</td>\n",
              "      <td>5</td>\n",
              "      <td>0</td>\n",
              "      <td>2.300000e+09</td>\n",
              "      <td>45</td>\n",
              "      <td>1.5</td>\n",
              "      <td>-36</td>\n",
              "      <td>35.3552</td>\n",
              "      <td>26.6196</td>\n",
              "      <td>-28.2842</td>\n",
              "      <td>50.1736</td>\n",
              "      <td>27.9920</td>\n",
              "      <td>19.3120</td>\n",
              "      <td>38.5979</td>\n",
              "      <td>74.9050</td>\n",
              "      <td>113.503</td>\n",
              "    </tr>\n",
              "    <tr>\n",
              "      <th>2</th>\n",
              "      <td>0</td>\n",
              "      <td>5</td>\n",
              "      <td>0</td>\n",
              "      <td>2.300000e+09</td>\n",
              "      <td>61</td>\n",
              "      <td>1.5</td>\n",
              "      <td>-19</td>\n",
              "      <td>51.8878</td>\n",
              "      <td>31.8698</td>\n",
              "      <td>-16.1618</td>\n",
              "      <td>60.6262</td>\n",
              "      <td>31.8342</td>\n",
              "      <td>21.2488</td>\n",
              "      <td>39.4312</td>\n",
              "      <td>75.7981</td>\n",
              "      <td>115.229</td>\n",
              "    </tr>\n",
              "    <tr>\n",
              "      <th>3</th>\n",
              "      <td>0</td>\n",
              "      <td>5</td>\n",
              "      <td>0</td>\n",
              "      <td>2.300000e+09</td>\n",
              "      <td>53</td>\n",
              "      <td>1.5</td>\n",
              "      <td>-96</td>\n",
              "      <td>28.3248</td>\n",
              "      <td>21.4339</td>\n",
              "      <td>-51.3053</td>\n",
              "      <td>60.8654</td>\n",
              "      <td>54.8073</td>\n",
              "      <td>12.9921</td>\n",
              "      <td>35.1401</td>\n",
              "      <td>80.4816</td>\n",
              "      <td>115.622</td>\n",
              "    </tr>\n",
              "    <tr>\n",
              "      <th>4</th>\n",
              "      <td>0</td>\n",
              "      <td>5</td>\n",
              "      <td>0</td>\n",
              "      <td>2.300000e+09</td>\n",
              "      <td>71</td>\n",
              "      <td>1.5</td>\n",
              "      <td>-53</td>\n",
              "      <td>67.7635</td>\n",
              "      <td>29.3966</td>\n",
              "      <td>-50.5840</td>\n",
              "      <td>88.0104</td>\n",
              "      <td>28.1874</td>\n",
              "      <td>20.5179</td>\n",
              "      <td>39.1260</td>\n",
              "      <td>78.6318</td>\n",
              "      <td>117.758</td>\n",
              "    </tr>\n",
              "  </tbody>\n",
              "</table>\n",
              "</div>"
            ],
            "text/plain": [
              "   tx_x_pos   tx_y_pos  ...   free_space_loss   total_loss_dB\n",
              "0         0          5  ...           76.0515         115.540\n",
              "1         0          5  ...           74.9050         113.503\n",
              "2         0          5  ...           75.7981         115.229\n",
              "3         0          5  ...           80.4816         115.622\n",
              "4         0          5  ...           78.6318         117.758\n",
              "\n",
              "[5 rows x 16 columns]"
            ]
          },
          "metadata": {
            "tags": []
          },
          "execution_count": 13
        }
      ]
    },
    {
      "cell_type": "markdown",
      "metadata": {
        "id": "2lIwNuYHGdDi"
      },
      "source": [
        "### Single Edge Diffraction"
      ]
    },
    {
      "cell_type": "markdown",
      "metadata": {
        "id": "bNw838wcLb3t"
      },
      "source": [
        "\\begin{equation}\n",
        "  v = h \\sqrt{\\frac{2(s_1+s_2)}{\\lambda r_1 r_2}}\n",
        "\\end{equation}\n",
        "\n",
        "\\begin{equation}\n",
        "  c_{K.E.} = 6.9 + 20log(\\sqrt{(v-0.1)^2 + 1} + v - 0.1 )\n",
        "\\end{equation}"
      ]
    },
    {
      "cell_type": "code",
      "metadata": {
        "id": "FuYmtWySGpG4"
      },
      "source": [
        "tx_positions = single_edge_data.iloc[:,0:3].to_numpy().reshape((-1,3))\n",
        "tx_frequencies = single_edge_data.iloc[:,3:4].to_numpy().reshape((-1,1))\n",
        "rx_positions = single_edge_data.iloc[:,4:7].to_numpy().reshape((-1, 3))\n",
        "edge_positions = single_edge_data.iloc[:,7:10].to_numpy().reshape((-1,3))\n",
        "ref_v_values = single_edge_data.iloc[:,-4].to_numpy().reshape((-1,1))\n",
        "ref_total_loss = single_edge_data.iloc[:,-1].to_numpy().reshape((-1,1))\n",
        "ref_diff_loss = single_edge_data.iloc[:,-3].to_numpy().reshape((-1,1))\n",
        "ref_fsp_loss = single_edge_data.iloc[:,-2].to_numpy().reshape((-1,1))"
      ],
      "execution_count": 205,
      "outputs": []
    },
    {
      "cell_type": "code",
      "metadata": {
        "id": "Ls5TJjLdC5dm"
      },
      "source": [
        "def NormalzeVector(matrix):\n",
        "  norm = np.sqrt(np.sum( matrix**2,axis=1, keepdims=True))\n",
        "  matrix = matrix/ norm\n",
        "  return matrix"
      ],
      "execution_count": 147,
      "outputs": []
    },
    {
      "cell_type": "code",
      "metadata": {
        "id": "puoGKic_WAEV"
      },
      "source": [
        "# Function that computes the angle between two vectors\n",
        "def AngleTwoVector(vectors_1, vectors_2):\n",
        "  numerator = np.sum(np.multiply(vectors_1, vectors_2),axis=1); \n",
        "  denumerator = np.multiply(np.sqrt(np.sum(vectors_1**2,axis=1)), np.sqrt(np.sum(vectors_2**2,axis=1)))\n",
        "  return np.arccos(numerator/denumerator)"
      ],
      "execution_count": 174,
      "outputs": []
    },
    {
      "cell_type": "code",
      "metadata": {
        "id": "VAWXo_mpI7NE"
      },
      "source": [
        "def ComputeV(tx_positions, tx_frequencies, rx_positions, edge_positions):\n",
        "  tx2rx_dir = NormalzeVector(rx_positions-tx_positions)\n",
        "  rx2tx_dir = -tx2rx_dir\n",
        "  tx2edge_dir = NormalzeVector(edge_positions-tx_positions)\n",
        "  rx2edge_dir = NormalzeVector(edge_positions-rx_positions)\n",
        "  angle_tx = AngleTwoVector(tx2edge_dir, tx2rx_dir).ravel()\n",
        "  angle_rx = AngleTwoVector(rx2edge_dir, rx2tx_dir).ravel()\n",
        "  wave_length = c/tx_frequencies.ravel()\n",
        "  r1 = np.sqrt(np.sum((tx_positions-edge_positions)**2, axis=1)).ravel()\n",
        "  r2 = np.sqrt(np.sum((rx_positions-edge_positions)**2, axis=1)).ravel()\n",
        "  d1 = np.multiply(np.cos(angle_tx),r1).ravel()\n",
        "  d2 = np.multiply(np.cos(angle_rx),r2).ravel()\n",
        "  h1 = np.multiply(np.sin(angle_rx),r2).ravel()\n",
        "  h2 = np.multiply(np.sin(angle_rx),r2).ravel()\n",
        "  assert (h1 == h2).all() # h should be equal\n",
        "  h = h1\n",
        "  v = np.multiply(h, np.sqrt(2*(d1 + d2)/(wave_length*r1*r2)))\n",
        "  return v"
      ],
      "execution_count": 186,
      "outputs": []
    },
    {
      "cell_type": "code",
      "metadata": {
        "id": "HZRrOxwr5jmR"
      },
      "source": [
        "def ComputeDiffractionFromV(v_list):\n",
        "  v = v_list.ravel()\n",
        "  return 6.9 + 20 * np.log10(np.sqrt((v_list - 0.1)**2 + 1) + v_list - 0.1)"
      ],
      "execution_count": 207,
      "outputs": []
    },
    {
      "cell_type": "code",
      "metadata": {
        "id": "wwdBUezPmw8I",
        "outputId": "60e6d93c-3e39-40f7-bda2-6888f3e975c9",
        "colab": {
          "base_uri": "https://localhost:8080/",
          "height": 215
        }
      },
      "source": [
        "computed_v = ComputeV(tx_positions, tx_frequencies, rx_positions, edge_positions)\n",
        "computed_v = computed_v.ravel()\n",
        "ref_v_values = ref_v_values.ravel()\n",
        "assert (np.round(computed_v, 1) == np.round(ref_v_values, 1) ).all()\n",
        "v_table = pd.DataFrame( {'computed V':computed_v, 'reference V': ref_v_values})\n",
        "print(\"V Results are correct\")\n",
        "v_table.head()"
      ],
      "execution_count": 210,
      "outputs": [
        {
          "output_type": "stream",
          "text": [
            "V Results are correct\n"
          ],
          "name": "stdout"
        },
        {
          "output_type": "execute_result",
          "data": {
            "text/html": [
              "<div>\n",
              "<style scoped>\n",
              "    .dataframe tbody tr th:only-of-type {\n",
              "        vertical-align: middle;\n",
              "    }\n",
              "\n",
              "    .dataframe tbody tr th {\n",
              "        vertical-align: top;\n",
              "    }\n",
              "\n",
              "    .dataframe thead th {\n",
              "        text-align: right;\n",
              "    }\n",
              "</style>\n",
              "<table border=\"1\" class=\"dataframe\">\n",
              "  <thead>\n",
              "    <tr style=\"text-align: right;\">\n",
              "      <th></th>\n",
              "      <th>computed V</th>\n",
              "      <th>reference V</th>\n",
              "    </tr>\n",
              "  </thead>\n",
              "  <tbody>\n",
              "    <tr>\n",
              "      <th>0</th>\n",
              "      <td>21.388500</td>\n",
              "      <td>21.3885</td>\n",
              "    </tr>\n",
              "    <tr>\n",
              "      <th>1</th>\n",
              "      <td>19.311991</td>\n",
              "      <td>19.3120</td>\n",
              "    </tr>\n",
              "    <tr>\n",
              "      <th>2</th>\n",
              "      <td>21.248819</td>\n",
              "      <td>21.2488</td>\n",
              "    </tr>\n",
              "    <tr>\n",
              "      <th>3</th>\n",
              "      <td>12.992119</td>\n",
              "      <td>12.9921</td>\n",
              "    </tr>\n",
              "    <tr>\n",
              "      <th>4</th>\n",
              "      <td>20.517852</td>\n",
              "      <td>20.5179</td>\n",
              "    </tr>\n",
              "  </tbody>\n",
              "</table>\n",
              "</div>"
            ],
            "text/plain": [
              "   computed V  reference V\n",
              "0   21.388500      21.3885\n",
              "1   19.311991      19.3120\n",
              "2   21.248819      21.2488\n",
              "3   12.992119      12.9921\n",
              "4   20.517852      20.5179"
            ]
          },
          "metadata": {
            "tags": []
          },
          "execution_count": 210
        }
      ]
    },
    {
      "cell_type": "code",
      "metadata": {
        "id": "YRBZT5rp5pcc",
        "outputId": "cc17843c-ec04-4fca-b23b-43317c725d48",
        "colab": {
          "base_uri": "https://localhost:8080/",
          "height": 215
        }
      },
      "source": [
        "#computed_single_loss = ComputeDiffractionFromV(computed_v) \\\n",
        "#                        + DirectPath(tx_positions, tx_frequencies, rx_positions);\n",
        "computed_single_loss = ComputeDiffractionFromV(computed_v).ravel()\n",
        "ref_diff_loss = ref_diff_loss.ravel()\n",
        "\n",
        "single_result_table = pd.DataFrame( {'computed diff loss': computed_single_loss,\\\n",
        "                                     'reference diff loss': ref_diff_loss})\n",
        "\n",
        "assert (np.round(computed_single_loss, 1) == np.round(ref_diff_loss, 1) ).all()\n",
        "print(\"Single Diffraction Results are correct\")\n",
        "single_result_table.head()"
      ],
      "execution_count": 217,
      "outputs": [
        {
          "output_type": "stream",
          "text": [
            "Single Diffraction Results are correct\n"
          ],
          "name": "stdout"
        },
        {
          "output_type": "execute_result",
          "data": {
            "text/html": [
              "<div>\n",
              "<style scoped>\n",
              "    .dataframe tbody tr th:only-of-type {\n",
              "        vertical-align: middle;\n",
              "    }\n",
              "\n",
              "    .dataframe tbody tr th {\n",
              "        vertical-align: top;\n",
              "    }\n",
              "\n",
              "    .dataframe thead th {\n",
              "        text-align: right;\n",
              "    }\n",
              "</style>\n",
              "<table border=\"1\" class=\"dataframe\">\n",
              "  <thead>\n",
              "    <tr style=\"text-align: right;\">\n",
              "      <th></th>\n",
              "      <th>computed diff loss</th>\n",
              "      <th>reference diff loss</th>\n",
              "    </tr>\n",
              "  </thead>\n",
              "  <tbody>\n",
              "    <tr>\n",
              "      <th>0</th>\n",
              "      <td>39.488289</td>\n",
              "      <td>39.4883</td>\n",
              "    </tr>\n",
              "    <tr>\n",
              "      <th>1</th>\n",
              "      <td>38.597924</td>\n",
              "      <td>38.5979</td>\n",
              "    </tr>\n",
              "    <tr>\n",
              "      <th>2</th>\n",
              "      <td>39.431173</td>\n",
              "      <td>39.4312</td>\n",
              "    </tr>\n",
              "    <tr>\n",
              "      <th>3</th>\n",
              "      <td>35.140122</td>\n",
              "      <td>35.1401</td>\n",
              "    </tr>\n",
              "    <tr>\n",
              "      <th>4</th>\n",
              "      <td>39.126005</td>\n",
              "      <td>39.1260</td>\n",
              "    </tr>\n",
              "  </tbody>\n",
              "</table>\n",
              "</div>"
            ],
            "text/plain": [
              "   computed diff loss  reference diff loss\n",
              "0           39.488289              39.4883\n",
              "1           38.597924              38.5979\n",
              "2           39.431173              39.4312\n",
              "3           35.140122              35.1401\n",
              "4           39.126005              39.1260"
            ]
          },
          "metadata": {
            "tags": []
          },
          "execution_count": 217
        }
      ]
    },
    {
      "cell_type": "markdown",
      "metadata": {
        "id": "CRN2QcR7GfPc"
      },
      "source": [
        "### Multiple Edges Diffraction"
      ]
    },
    {
      "cell_type": "code",
      "metadata": {
        "id": "Up7XN23v74H8",
        "outputId": "09f342a4-9877-4ec9-f5bf-597e292b63f4",
        "colab": {
          "base_uri": "https://localhost:8080/",
          "height": 217
        }
      },
      "source": [
        "multi_edges_data.head()"
      ],
      "execution_count": 218,
      "outputs": [
        {
          "output_type": "execute_result",
          "data": {
            "text/html": [
              "<div>\n",
              "<style scoped>\n",
              "    .dataframe tbody tr th:only-of-type {\n",
              "        vertical-align: middle;\n",
              "    }\n",
              "\n",
              "    .dataframe tbody tr th {\n",
              "        vertical-align: top;\n",
              "    }\n",
              "\n",
              "    .dataframe thead th {\n",
              "        text-align: right;\n",
              "    }\n",
              "</style>\n",
              "<table border=\"1\" class=\"dataframe\">\n",
              "  <thead>\n",
              "    <tr style=\"text-align: right;\">\n",
              "      <th></th>\n",
              "      <th>tx_x_pos</th>\n",
              "      <th>tx_y_pos</th>\n",
              "      <th>tx_z_pos</th>\n",
              "      <th>tx_freq</th>\n",
              "      <th>rx_x_pos</th>\n",
              "      <th>rx_y_pos</th>\n",
              "      <th>rx_z_pos</th>\n",
              "      <th>near_tx_x_pos</th>\n",
              "      <th>near_tx_y_pos</th>\n",
              "      <th>near_tx_z_pos</th>\n",
              "      <th>center_x_pos</th>\n",
              "      <th>center_y_pos</th>\n",
              "      <th>center_z_pos</th>\n",
              "      <th>near_rx_x_pos</th>\n",
              "      <th>near_rx_y_pos</th>\n",
              "      <th>near_rx_z_pos</th>\n",
              "      <th>d1</th>\n",
              "      <th>d2</th>\n",
              "      <th>d3</th>\n",
              "      <th>d4</th>\n",
              "      <th>v_near_tx</th>\n",
              "      <th>v_cen</th>\n",
              "      <th>v_near_rx</th>\n",
              "      <th>c_v_near_tx</th>\n",
              "      <th>c_v_cen</th>\n",
              "      <th>c_v_near_rx</th>\n",
              "      <th>c1_correct</th>\n",
              "      <th>c2_correct</th>\n",
              "      <th>diff_los_dB</th>\n",
              "      <th>free_space_loss</th>\n",
              "      <th>total_loss_dB</th>\n",
              "    </tr>\n",
              "  </thead>\n",
              "  <tbody>\n",
              "    <tr>\n",
              "      <th>0</th>\n",
              "      <td>0</td>\n",
              "      <td>5</td>\n",
              "      <td>0</td>\n",
              "      <td>2.300000e+09</td>\n",
              "      <td>91</td>\n",
              "      <td>1.5</td>\n",
              "      <td>-73</td>\n",
              "      <td>35.40520</td>\n",
              "      <td>26.4376</td>\n",
              "      <td>-28.4020</td>\n",
              "      <td>64.7376</td>\n",
              "      <td>31.6842</td>\n",
              "      <td>-51.9324</td>\n",
              "      <td>66.3098</td>\n",
              "      <td>31.7675</td>\n",
              "      <td>-53.1936</td>\n",
              "      <td>50.1973</td>\n",
              "      <td>37.968300</td>\n",
              "      <td>2.01735</td>\n",
              "      <td>43.7952</td>\n",
              "      <td>5.45653</td>\n",
              "      <td>19.6483</td>\n",
              "      <td>3.94294</td>\n",
              "      <td>27.5730</td>\n",
              "      <td>38.7485</td>\n",
              "      <td>24.7573</td>\n",
              "      <td>-2.630610</td>\n",
              "      <td>-7.655860</td>\n",
              "      <td>101.365</td>\n",
              "      <td>81.0188</td>\n",
              "      <td>182.384</td>\n",
              "    </tr>\n",
              "    <tr>\n",
              "      <th>1</th>\n",
              "      <td>0</td>\n",
              "      <td>5</td>\n",
              "      <td>0</td>\n",
              "      <td>2.300000e+09</td>\n",
              "      <td>-71</td>\n",
              "      <td>1.5</td>\n",
              "      <td>93</td>\n",
              "      <td>-29.59120</td>\n",
              "      <td>27.5186</td>\n",
              "      <td>38.7602</td>\n",
              "      <td>-50.7980</td>\n",
              "      <td>31.8976</td>\n",
              "      <td>66.5382</td>\n",
              "      <td>-61.8813</td>\n",
              "      <td>26.7216</td>\n",
              "      <td>81.0558</td>\n",
              "      <td>53.7129</td>\n",
              "      <td>35.221100</td>\n",
              "      <td>18.98390</td>\n",
              "      <td>29.3589</td>\n",
              "      <td>5.50555</td>\n",
              "      <td>19.7757</td>\n",
              "      <td>9.45856</td>\n",
              "      <td>27.6508</td>\n",
              "      <td>38.8048</td>\n",
              "      <td>32.3695</td>\n",
              "      <td>-2.747610</td>\n",
              "      <td>-0.264993</td>\n",
              "      <td>101.838</td>\n",
              "      <td>81.0442</td>\n",
              "      <td>182.882</td>\n",
              "    </tr>\n",
              "    <tr>\n",
              "      <th>2</th>\n",
              "      <td>0</td>\n",
              "      <td>5</td>\n",
              "      <td>0</td>\n",
              "      <td>2.300000e+09</td>\n",
              "      <td>77</td>\n",
              "      <td>1.5</td>\n",
              "      <td>-30</td>\n",
              "      <td>46.67420</td>\n",
              "      <td>31.7181</td>\n",
              "      <td>-18.1847</td>\n",
              "      <td>47.3652</td>\n",
              "      <td>31.6293</td>\n",
              "      <td>-18.4540</td>\n",
              "      <td>54.0084</td>\n",
              "      <td>26.1107</td>\n",
              "      <td>-21.0422</td>\n",
              "      <td>56.7716</td>\n",
              "      <td>0.746949</td>\n",
              "      <td>9.01590</td>\n",
              "      <td>34.8502</td>\n",
              "      <td>1.92332</td>\n",
              "      <td>20.4244</td>\n",
              "      <td>1.31133</td>\n",
              "      <td>18.7277</td>\n",
              "      <td>39.0862</td>\n",
              "      <td>15.7875</td>\n",
              "      <td>-14.090100</td>\n",
              "      <td>-14.269100</td>\n",
              "      <td>101.961</td>\n",
              "      <td>78.0277</td>\n",
              "      <td>179.988</td>\n",
              "    </tr>\n",
              "    <tr>\n",
              "      <th>3</th>\n",
              "      <td>0</td>\n",
              "      <td>5</td>\n",
              "      <td>0</td>\n",
              "      <td>2.300000e+09</td>\n",
              "      <td>-93</td>\n",
              "      <td>1.5</td>\n",
              "      <td>-52</td>\n",
              "      <td>-37.85300</td>\n",
              "      <td>20.0334</td>\n",
              "      <td>-21.1651</td>\n",
              "      <td>-75.1767</td>\n",
              "      <td>31.6728</td>\n",
              "      <td>-42.0343</td>\n",
              "      <td>-77.5457</td>\n",
              "      <td>29.1664</td>\n",
              "      <td>-43.3589</td>\n",
              "      <td>45.9001</td>\n",
              "      <td>44.317700</td>\n",
              "      <td>3.69450</td>\n",
              "      <td>32.8471</td>\n",
              "      <td>1.26255</td>\n",
              "      <td>20.7999</td>\n",
              "      <td>1.80862</td>\n",
              "      <td>15.5145</td>\n",
              "      <td>39.2450</td>\n",
              "      <td>18.2367</td>\n",
              "      <td>-7.152610</td>\n",
              "      <td>-13.760200</td>\n",
              "      <td>93.909</td>\n",
              "      <td>80.2321</td>\n",
              "      <td>174.141</td>\n",
              "    </tr>\n",
              "    <tr>\n",
              "      <th>4</th>\n",
              "      <td>0</td>\n",
              "      <td>5</td>\n",
              "      <td>0</td>\n",
              "      <td>2.300000e+09</td>\n",
              "      <td>19</td>\n",
              "      <td>1.5</td>\n",
              "      <td>-100</td>\n",
              "      <td>7.78413</td>\n",
              "      <td>29.5944</td>\n",
              "      <td>-40.9691</td>\n",
              "      <td>17.1596</td>\n",
              "      <td>31.7358</td>\n",
              "      <td>-90.3139</td>\n",
              "      <td>17.7837</td>\n",
              "      <td>29.6554</td>\n",
              "      <td>-93.5985</td>\n",
              "      <td>48.4143</td>\n",
              "      <td>50.273200</td>\n",
              "      <td>3.93781</td>\n",
              "      <td>28.8995</td>\n",
              "      <td>9.29634</td>\n",
              "      <td>21.3988</td>\n",
              "      <td>5.24474</td>\n",
              "      <td>32.2185</td>\n",
              "      <td>39.4925</td>\n",
              "      <td>27.2288</td>\n",
              "      <td>-0.347589</td>\n",
              "      <td>-5.001980</td>\n",
              "      <td>104.289</td>\n",
              "      <td>79.8355</td>\n",
              "      <td>184.125</td>\n",
              "    </tr>\n",
              "  </tbody>\n",
              "</table>\n",
              "</div>"
            ],
            "text/plain": [
              "   tx_x_pos   tx_y_pos  ...   free_space_loss    total_loss_dB\n",
              "0         0          5  ...            81.0188         182.384\n",
              "1         0          5  ...            81.0442         182.882\n",
              "2         0          5  ...            78.0277         179.988\n",
              "3         0          5  ...            80.2321         174.141\n",
              "4         0          5  ...            79.8355         184.125\n",
              "\n",
              "[5 rows x 31 columns]"
            ]
          },
          "metadata": {
            "tags": []
          },
          "execution_count": 218
        }
      ]
    }
  ]
}