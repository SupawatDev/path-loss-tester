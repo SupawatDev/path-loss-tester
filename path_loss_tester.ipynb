{
  "nbformat": 4,
  "nbformat_minor": 0,
  "metadata": {
    "colab": {
      "name": "path_loss_tester.ipynb",
      "provenance": [],
      "collapsed_sections": [],
      "authorship_tag": "ABX9TyNdQH7pdYPmezwQUGt8cVr7",
      "include_colab_link": true
    },
    "kernelspec": {
      "name": "python3",
      "display_name": "Python 3"
    }
  },
  "cells": [
    {
      "cell_type": "markdown",
      "metadata": {
        "id": "view-in-github",
        "colab_type": "text"
      },
      "source": [
        "<a href=\"https://colab.research.google.com/github/SupawatDev/path-loss-tester/blob/master/path_loss_tester.ipynb\" target=\"_parent\"><img src=\"https://colab.research.google.com/assets/colab-badge.svg\" alt=\"Open In Colab\"/></a>"
      ]
    },
    {
      "cell_type": "markdown",
      "metadata": {
        "id": "vnf8o_KJuZVC"
      },
      "source": [
        "# Path Loss Tester\n",
        "Path Loss tester is a tool to verify the result of electromagnetic propagation loss from the generated data from WCsim."
      ]
    },
    {
      "cell_type": "code",
      "metadata": {
        "id": "DndhD5UQt6l5"
      },
      "source": [
        "from google.colab import files\n",
        "from math import pi, log10, cos, sin, asin\n",
        "from scipy.signal import normalize\n",
        "import numpy as np\n",
        "import pandas as pd\n",
        "import io\n",
        "c = 3e8"
      ],
      "execution_count": 221,
      "outputs": []
    },
    {
      "cell_type": "markdown",
      "metadata": {
        "id": "PKult7yAxmTO"
      },
      "source": [
        "### Import the data"
      ]
    },
    {
      "cell_type": "code",
      "metadata": {
        "id": "Y1TNqe1Rve_9",
        "outputId": "f1b717fb-d4a1-49da-acc9-2c099ad8e818",
        "colab": {
          "resources": {
            "http://localhost:8080/nbextensions/google.colab/files.js": {
              "data": "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",
              "ok": true,
              "headers": [
                [
                  "content-type",
                  "application/javascript"
                ]
              ],
              "status": 200,
              "status_text": ""
            }
          },
          "base_uri": "https://localhost:8080/",
          "height": 212
        }
      },
      "source": [
        "print(\"Upload files.\")\n",
        "upload = files.upload()"
      ],
      "execution_count": 3,
      "outputs": [
        {
          "output_type": "stream",
          "text": [
            "Upload direct path result.\n"
          ],
          "name": "stdout"
        },
        {
          "output_type": "display_data",
          "data": {
            "text/html": [
              "\n",
              "     <input type=\"file\" id=\"files-01cc40fc-0046-4151-b3de-45fe1735aa25\" name=\"files[]\" multiple disabled\n",
              "        style=\"border:none\" />\n",
              "     <output id=\"result-01cc40fc-0046-4151-b3de-45fe1735aa25\">\n",
              "      Upload widget is only available when the cell has been executed in the\n",
              "      current browser session. Please rerun this cell to enable.\n",
              "      </output>\n",
              "      <script src=\"/nbextensions/google.colab/files.js\"></script> "
            ],
            "text/plain": [
              "<IPython.core.display.HTML object>"
            ]
          },
          "metadata": {
            "tags": []
          }
        },
        {
          "output_type": "stream",
          "text": [
            "Saving direct_path.csv to direct_path (1).csv\n",
            "Saving reflection.csv to reflection.csv\n",
            "Saving single-edge.csv to single-edge.csv\n",
            "Saving multiple-edges.csv to multiple-edges.csv\n",
            "Upload reflection result.\n"
          ],
          "name": "stdout"
        }
      ]
    },
    {
      "cell_type": "code",
      "metadata": {
        "id": "dk60L8AjwWdz",
        "outputId": "671e3d85-0d83-4c43-ecf5-0f9abb08a533",
        "colab": {
          "base_uri": "https://localhost:8080/",
          "height": 197
        }
      },
      "source": [
        "#Load .csv data to Pandas\n",
        "direct_data = pd.read_csv(io.BytesIO(upload['direct_path.csv']))\n",
        "ref_data = pd.read_csv(io.BytesIO(upload['reflection.csv']))\n",
        "single_edge_data = pd.read_csv(io.BytesIO(upload['single-edge.csv']))\n",
        "multi_edges_data = pd.read_csv(io.BytesIO(upload['multiple-edges.csv']))\n",
        "direct_data.head()"
      ],
      "execution_count": 134,
      "outputs": [
        {
          "output_type": "execute_result",
          "data": {
            "text/html": [
              "<div>\n",
              "<style scoped>\n",
              "    .dataframe tbody tr th:only-of-type {\n",
              "        vertical-align: middle;\n",
              "    }\n",
              "\n",
              "    .dataframe tbody tr th {\n",
              "        vertical-align: top;\n",
              "    }\n",
              "\n",
              "    .dataframe thead th {\n",
              "        text-align: right;\n",
              "    }\n",
              "</style>\n",
              "<table border=\"1\" class=\"dataframe\">\n",
              "  <thead>\n",
              "    <tr style=\"text-align: right;\">\n",
              "      <th></th>\n",
              "      <th>tx_x_pos</th>\n",
              "      <th>tx_y_pos</th>\n",
              "      <th>tx_z_pos</th>\n",
              "      <th>tx_freq</th>\n",
              "      <th>rx_x_pos</th>\n",
              "      <th>rx_y_pos</th>\n",
              "      <th>rx_z_pos</th>\n",
              "      <th>distance</th>\n",
              "      <th>path_loss_dB</th>\n",
              "    </tr>\n",
              "  </thead>\n",
              "  <tbody>\n",
              "    <tr>\n",
              "      <th>0</th>\n",
              "      <td>0</td>\n",
              "      <td>5</td>\n",
              "      <td>0</td>\n",
              "      <td>2.300000e+09</td>\n",
              "      <td>34</td>\n",
              "      <td>1.5</td>\n",
              "      <td>-59</td>\n",
              "      <td>68.1854</td>\n",
              "      <td>76.3502</td>\n",
              "    </tr>\n",
              "    <tr>\n",
              "      <th>1</th>\n",
              "      <td>0</td>\n",
              "      <td>5</td>\n",
              "      <td>0</td>\n",
              "      <td>2.300000e+09</td>\n",
              "      <td>24</td>\n",
              "      <td>1.5</td>\n",
              "      <td>0</td>\n",
              "      <td>24.2539</td>\n",
              "      <td>67.3719</td>\n",
              "    </tr>\n",
              "    <tr>\n",
              "      <th>2</th>\n",
              "      <td>0</td>\n",
              "      <td>5</td>\n",
              "      <td>0</td>\n",
              "      <td>2.300000e+09</td>\n",
              "      <td>42</td>\n",
              "      <td>1.5</td>\n",
              "      <td>-9</td>\n",
              "      <td>43.0958</td>\n",
              "      <td>72.3650</td>\n",
              "    </tr>\n",
              "    <tr>\n",
              "      <th>3</th>\n",
              "      <td>0</td>\n",
              "      <td>5</td>\n",
              "      <td>0</td>\n",
              "      <td>2.300000e+09</td>\n",
              "      <td>-5</td>\n",
              "      <td>1.5</td>\n",
              "      <td>16</td>\n",
              "      <td>17.1245</td>\n",
              "      <td>64.3487</td>\n",
              "    </tr>\n",
              "    <tr>\n",
              "      <th>4</th>\n",
              "      <td>0</td>\n",
              "      <td>5</td>\n",
              "      <td>0</td>\n",
              "      <td>2.300000e+09</td>\n",
              "      <td>12</td>\n",
              "      <td>1.5</td>\n",
              "      <td>38</td>\n",
              "      <td>40.0031</td>\n",
              "      <td>71.7182</td>\n",
              "    </tr>\n",
              "  </tbody>\n",
              "</table>\n",
              "</div>"
            ],
            "text/plain": [
              "   tx_x_pos   tx_y_pos   tx_z_pos  ...   rx_z_pos   distance   path_loss_dB\n",
              "0         0          5          0  ...        -59    68.1854        76.3502\n",
              "1         0          5          0  ...          0    24.2539        67.3719\n",
              "2         0          5          0  ...         -9    43.0958        72.3650\n",
              "3         0          5          0  ...         16    17.1245        64.3487\n",
              "4         0          5          0  ...         38    40.0031        71.7182\n",
              "\n",
              "[5 rows x 9 columns]"
            ]
          },
          "metadata": {
            "tags": []
          },
          "execution_count": 134
        }
      ]
    },
    {
      "cell_type": "markdown",
      "metadata": {
        "id": "gwWD20J9xzWq"
      },
      "source": [
        "## Direct Path Verification"
      ]
    },
    {
      "cell_type": "markdown",
      "metadata": {
        "id": "bBnrRUV8JF5Q"
      },
      "source": [
        "\\begin{equation}\n",
        "Loss_{direct} = (\\frac{4\\pi d_1}{\\lambda})^2\n",
        "\\end{equation}"
      ]
    },
    {
      "cell_type": "code",
      "metadata": {
        "id": "J4a3hhCJ02Fj"
      },
      "source": [
        "# Function for calculating direct path loss of radio wave propagation.\n",
        "def DirectPath(tx_positions, frequencies, rx_positions):\n",
        "  distance = np.sum((tx_positions-rx_positions)**2, axis=1)\n",
        "  distance = np.sqrt(distance)\n",
        "  wave_length = c/frequencies\n",
        "  distance = np.reshape(distance, (-1,1))\n",
        "  wave_length = np.reshape(wave_length, (-1,1))\n",
        "  path_loss = (4*pi*distance/wave_length)**2\n",
        "  return 10*np.log10(path_loss)"
      ],
      "execution_count": 194,
      "outputs": []
    },
    {
      "cell_type": "code",
      "metadata": {
        "id": "yyBMpCOIxUmz",
        "outputId": "2e39914a-7f42-4d8a-942f-25801e2cd04c",
        "colab": {
          "base_uri": "https://localhost:8080/",
          "height": 215
        }
      },
      "source": [
        "tx_positions = direct_data.iloc[:,0:3].to_numpy()\n",
        "tx_frequencies = direct_data.iloc[:,3:4].to_numpy()\n",
        "rx_positions = direct_data.iloc[:,4:7].to_numpy()\n",
        "computed_result = DirectPath(tx_positions, tx_frequencies, rx_positions).reshape(-1,1)\n",
        "reference_result = direct_data.iloc[:,-1].to_numpy().reshape((-1,1))\n",
        "# Round to 1 digit because the PI value in simulator is not accurate.\n",
        "check_table = pd.DataFrame( {'com':computed_result.ravel(), 'ref': reference_result.ravel()})\n",
        "assert (np.round(computed_result, 1) == np.round(reference_result, 1)).all()\n",
        "print(\"Direct Path Results are correct.\")\n",
        "check_table.head()"
      ],
      "execution_count": 298,
      "outputs": [
        {
          "output_type": "stream",
          "text": [
            "Direct Path Results are correct.\n"
          ],
          "name": "stdout"
        },
        {
          "output_type": "execute_result",
          "data": {
            "text/html": [
              "<div>\n",
              "<style scoped>\n",
              "    .dataframe tbody tr th:only-of-type {\n",
              "        vertical-align: middle;\n",
              "    }\n",
              "\n",
              "    .dataframe tbody tr th {\n",
              "        vertical-align: top;\n",
              "    }\n",
              "\n",
              "    .dataframe thead th {\n",
              "        text-align: right;\n",
              "    }\n",
              "</style>\n",
              "<table border=\"1\" class=\"dataframe\">\n",
              "  <thead>\n",
              "    <tr style=\"text-align: right;\">\n",
              "      <th></th>\n",
              "      <th>com</th>\n",
              "      <th>ref</th>\n",
              "    </tr>\n",
              "  </thead>\n",
              "  <tbody>\n",
              "    <tr>\n",
              "      <th>0</th>\n",
              "      <td>76.350158</td>\n",
              "      <td>76.3502</td>\n",
              "    </tr>\n",
              "    <tr>\n",
              "      <th>1</th>\n",
              "      <td>67.371948</td>\n",
              "      <td>67.3719</td>\n",
              "    </tr>\n",
              "    <tr>\n",
              "      <th>2</th>\n",
              "      <td>72.365033</td>\n",
              "      <td>72.3650</td>\n",
              "    </tr>\n",
              "    <tr>\n",
              "      <th>3</th>\n",
              "      <td>64.348709</td>\n",
              "      <td>64.3487</td>\n",
              "    </tr>\n",
              "    <tr>\n",
              "      <th>4</th>\n",
              "      <td>71.718207</td>\n",
              "      <td>71.7182</td>\n",
              "    </tr>\n",
              "  </tbody>\n",
              "</table>\n",
              "</div>"
            ],
            "text/plain": [
              "         com      ref\n",
              "0  76.350158  76.3502\n",
              "1  67.371948  67.3719\n",
              "2  72.365033  72.3650\n",
              "3  64.348709  64.3487\n",
              "4  71.718207  71.7182"
            ]
          },
          "metadata": {
            "tags": []
          },
          "execution_count": 298
        }
      ]
    },
    {
      "cell_type": "markdown",
      "metadata": {
        "id": "SsiCvX6u_mts"
      },
      "source": [
        "## Reflection Verification"
      ]
    },
    {
      "cell_type": "markdown",
      "metadata": {
        "id": "0ksk1YH0BtAR"
      },
      "source": [
        "### Reflection Coefficient"
      ]
    },
    {
      "cell_type": "markdown",
      "metadata": {
        "id": "dpk-edvvJpYn"
      },
      "source": [
        "\\begin{equation}\n",
        "  \\Gamma_{TE} = \n",
        "  \\begin{cases}\n",
        "    1 , & \\text{ where \\( \\sqrt{\\vert \\frac{n_1}{n_2} \\vert sin\\theta_1 } >=1 \\) } \\\\\n",
        "         \\frac {\\sqrt{n_2} cos(\\theta_1) - \\sqrt{n_2} cos(\\theta_2)}\n",
        "          {\\sqrt{n_1} cos(\\theta_1) + \\sqrt{n_2} cos(\\theta_2)} , &  \\text{ else }\n",
        "  \\end{cases}\n",
        "\\end{equation}\n"
      ]
    },
    {
      "cell_type": "markdown",
      "metadata": {
        "id": "C2CXs_9rKseB"
      },
      "source": [
        "\\begin{equation}\n",
        "  \\Gamma_{TM} =\n",
        "\\end{equation}"
      ]
    },
    {
      "cell_type": "code",
      "metadata": {
        "id": "qXcLWuqYHygy",
        "outputId": "47313a74-144b-4aa7-ae80-e4e3abb7af3d",
        "colab": {
          "base_uri": "https://localhost:8080/",
          "height": 197
        }
      },
      "source": [
        "ref_data.head()"
      ],
      "execution_count": 191,
      "outputs": [
        {
          "output_type": "execute_result",
          "data": {
            "text/html": [
              "<div>\n",
              "<style scoped>\n",
              "    .dataframe tbody tr th:only-of-type {\n",
              "        vertical-align: middle;\n",
              "    }\n",
              "\n",
              "    .dataframe tbody tr th {\n",
              "        vertical-align: top;\n",
              "    }\n",
              "\n",
              "    .dataframe thead th {\n",
              "        text-align: right;\n",
              "    }\n",
              "</style>\n",
              "<table border=\"1\" class=\"dataframe\">\n",
              "  <thead>\n",
              "    <tr style=\"text-align: right;\">\n",
              "      <th></th>\n",
              "      <th>tx_x_pos</th>\n",
              "      <th>tx_y_pos</th>\n",
              "      <th>tx_z_pos</th>\n",
              "      <th>tx_freq</th>\n",
              "      <th>rx_x_pos</th>\n",
              "      <th>rx_y_pos</th>\n",
              "      <th>rx_z_pos</th>\n",
              "      <th>ref_x_pos</th>\n",
              "      <th>ref_y_pos</th>\n",
              "      <th>ref_z_pos</th>\n",
              "      <th>tm_or_te</th>\n",
              "      <th>ref_coeff</th>\n",
              "      <th>d1</th>\n",
              "      <th>d2</th>\n",
              "      <th>angle2norm_deg</th>\n",
              "      <th>ref_loss_dB</th>\n",
              "    </tr>\n",
              "  </thead>\n",
              "  <tbody>\n",
              "    <tr>\n",
              "      <th>0</th>\n",
              "      <td>0</td>\n",
              "      <td>5</td>\n",
              "      <td>0</td>\n",
              "      <td>2.300000e+09</td>\n",
              "      <td>34</td>\n",
              "      <td>1.5</td>\n",
              "      <td>-59</td>\n",
              "      <td>36.1217</td>\n",
              "      <td>2.834910</td>\n",
              "      <td>-30.0909</td>\n",
              "      <td>E</td>\n",
              "      <td>-0.646290</td>\n",
              "      <td>47.0630</td>\n",
              "      <td>29.01760</td>\n",
              "      <td>62.83030</td>\n",
              "      <td>81.0933</td>\n",
              "    </tr>\n",
              "    <tr>\n",
              "      <th>1</th>\n",
              "      <td>0</td>\n",
              "      <td>5</td>\n",
              "      <td>0</td>\n",
              "      <td>2.300000e+09</td>\n",
              "      <td>34</td>\n",
              "      <td>1.5</td>\n",
              "      <td>-59</td>\n",
              "      <td>26.1838</td>\n",
              "      <td>0.010512</td>\n",
              "      <td>-45.4366</td>\n",
              "      <td>E</td>\n",
              "      <td>-0.912804</td>\n",
              "      <td>52.6779</td>\n",
              "      <td>15.72510</td>\n",
              "      <td>84.56490</td>\n",
              "      <td>77.1703</td>\n",
              "    </tr>\n",
              "    <tr>\n",
              "      <th>2</th>\n",
              "      <td>0</td>\n",
              "      <td>5</td>\n",
              "      <td>0</td>\n",
              "      <td>2.300000e+09</td>\n",
              "      <td>24</td>\n",
              "      <td>1.5</td>\n",
              "      <td>0</td>\n",
              "      <td>64.1040</td>\n",
              "      <td>2.846930</td>\n",
              "      <td>0.0000</td>\n",
              "      <td>E</td>\n",
              "      <td>-0.394866</td>\n",
              "      <td>64.1402</td>\n",
              "      <td>40.12660</td>\n",
              "      <td>1.92368</td>\n",
              "      <td>88.1103</td>\n",
              "    </tr>\n",
              "    <tr>\n",
              "      <th>3</th>\n",
              "      <td>0</td>\n",
              "      <td>5</td>\n",
              "      <td>0</td>\n",
              "      <td>2.300000e+09</td>\n",
              "      <td>24</td>\n",
              "      <td>1.5</td>\n",
              "      <td>0</td>\n",
              "      <td>18.4833</td>\n",
              "      <td>0.010678</td>\n",
              "      <td>0.0000</td>\n",
              "      <td>E</td>\n",
              "      <td>-0.778438</td>\n",
              "      <td>19.1448</td>\n",
              "      <td>5.71422</td>\n",
              "      <td>74.89300</td>\n",
              "      <td>69.7615</td>\n",
              "    </tr>\n",
              "    <tr>\n",
              "      <th>4</th>\n",
              "      <td>0</td>\n",
              "      <td>5</td>\n",
              "      <td>0</td>\n",
              "      <td>2.300000e+09</td>\n",
              "      <td>42</td>\n",
              "      <td>1.5</td>\n",
              "      <td>-9</td>\n",
              "      <td>41.3905</td>\n",
              "      <td>1.596380</td>\n",
              "      <td>-10.0407</td>\n",
              "      <td>E</td>\n",
              "      <td>-0.568004</td>\n",
              "      <td>42.7267</td>\n",
              "      <td>1.20995</td>\n",
              "      <td>53.49560</td>\n",
              "      <td>77.4458</td>\n",
              "    </tr>\n",
              "  </tbody>\n",
              "</table>\n",
              "</div>"
            ],
            "text/plain": [
              "   tx_x_pos   tx_y_pos   tx_z_pos  ...        d2   angle2norm_deg   ref_loss_dB\n",
              "0         0          5          0  ...  29.01760         62.83030       81.0933\n",
              "1         0          5          0  ...  15.72510         84.56490       77.1703\n",
              "2         0          5          0  ...  40.12660          1.92368       88.1103\n",
              "3         0          5          0  ...   5.71422         74.89300       69.7615\n",
              "4         0          5          0  ...   1.20995         53.49560       77.4458\n",
              "\n",
              "[5 rows x 16 columns]"
            ]
          },
          "metadata": {
            "tags": []
          },
          "execution_count": 191
        }
      ]
    },
    {
      "cell_type": "code",
      "metadata": {
        "id": "yiPg9RY6HmmT",
        "outputId": "70b42f4b-5e9a-47e9-d01d-0fe9f4bd5c22",
        "colab": {
          "base_uri": "https://localhost:8080/",
          "height": 34
        }
      },
      "source": [
        "tx_positions = ref_data.iloc[:,0:3].to_numpy()\n",
        "tx_frequencies = ref_data.iloc[:,3:4].to_numpy()\n",
        "rx_positions = ref_data.iloc[:,4:7].to_numpy()\n",
        "ref_data.shape"
      ],
      "execution_count": 205,
      "outputs": [
        {
          "output_type": "execute_result",
          "data": {
            "text/plain": [
              "(194, 16)"
            ]
          },
          "metadata": {
            "tags": []
          },
          "execution_count": 205
        }
      ]
    },
    {
      "cell_type": "code",
      "metadata": {
        "id": "oQuMm5gH__rV"
      },
      "source": [
        "def ReflectionCoefficient(tx_positions, rx_positions, angle2norm_deg, n_1, n_2, polar):\n",
        "  angle_1 = np.radians(angle2norm_deg)\n",
        "\n",
        "  c1, c2 = c/np.sqrt(n_1), c/np.sqrt(n_2)\n",
        "  angle_2 = np.arcsin(c2*np.sin(angle_1)/c1)\n",
        "\n",
        "  if polar == 'TE':\n",
        "    answer = (np.sqrt(n_1)*np.cos(angle_1) - np.sqrt(n_2)*np.cos(angle_2))/ \\\n",
        "           (np.sqrt(n_1)*np.cos(angle_1) + np.sqrt(n_2)*np.cos(angle_2))\n",
        "\n",
        "  if polar == 'TM':\n",
        "    answer = (np.sqrt(n_2)*np.cos(angle_1) - np.sqrt(n_1)*np.cos(angle_2))/ \\\n",
        "           (np.sqrt(n_2)*np.cos(angle_1) + np.sqrt(n_1)*np.cos(angle_2))\n",
        "\n",
        "  for i in range(len(tx_positions)):\n",
        "    if np.sqrt(np.abs(n_1/n_2)*np.sin(angle_1[i]) ) >= 1:\n",
        "      answer[i] = 1\n",
        "\n",
        "  return answer"
      ],
      "execution_count": 249,
      "outputs": []
    },
    {
      "cell_type": "code",
      "metadata": {
        "id": "db5poP_lv7Sx"
      },
      "source": [
        "angles = ref_data.iloc[:, -2:-1].to_numpy().reshape((-1, 1))"
      ],
      "execution_count": 250,
      "outputs": []
    },
    {
      "cell_type": "code",
      "metadata": {
        "id": "ZQCCUEBownyJ",
        "outputId": "95dc6d1d-6a28-4db0-8ada-bf9fba66e516",
        "colab": {
          "base_uri": "https://localhost:8080/",
          "height": 215
        }
      },
      "source": [
        "computed_refl_coe = ReflectionCoefficient(tx_positions, rx_positions, angles, 1.0003, 5.31, 'TE' ).reshape((-1,1))\n",
        "ref_refl_coe = ref_data.iloc[:,-5].to_numpy().reshape((-1,1))\n",
        "check_table = pd.DataFrame( {'com':computed_refl_coe.ravel(), 'ref': ref_refl_coe.ravel()})\n",
        "assert (np.round(computed_refl_coe,2) == np.round(ref_refl_coe,2)).all()\n",
        "print(\"Reflection Coefficient Results are correct.\")\n",
        "check_table.head()"
      ],
      "execution_count": 299,
      "outputs": [
        {
          "output_type": "stream",
          "text": [
            "Reflection Coefficient Results are correct.\n"
          ],
          "name": "stdout"
        },
        {
          "output_type": "execute_result",
          "data": {
            "text/html": [
              "<div>\n",
              "<style scoped>\n",
              "    .dataframe tbody tr th:only-of-type {\n",
              "        vertical-align: middle;\n",
              "    }\n",
              "\n",
              "    .dataframe tbody tr th {\n",
              "        vertical-align: top;\n",
              "    }\n",
              "\n",
              "    .dataframe thead th {\n",
              "        text-align: right;\n",
              "    }\n",
              "</style>\n",
              "<table border=\"1\" class=\"dataframe\">\n",
              "  <thead>\n",
              "    <tr style=\"text-align: right;\">\n",
              "      <th></th>\n",
              "      <th>com</th>\n",
              "      <th>ref</th>\n",
              "    </tr>\n",
              "  </thead>\n",
              "  <tbody>\n",
              "    <tr>\n",
              "      <th>0</th>\n",
              "      <td>-0.646290</td>\n",
              "      <td>-0.646290</td>\n",
              "    </tr>\n",
              "    <tr>\n",
              "      <th>1</th>\n",
              "      <td>-0.912805</td>\n",
              "      <td>-0.912804</td>\n",
              "    </tr>\n",
              "    <tr>\n",
              "      <th>2</th>\n",
              "      <td>-0.394866</td>\n",
              "      <td>-0.394866</td>\n",
              "    </tr>\n",
              "    <tr>\n",
              "      <th>3</th>\n",
              "      <td>-0.778438</td>\n",
              "      <td>-0.778438</td>\n",
              "    </tr>\n",
              "    <tr>\n",
              "      <th>4</th>\n",
              "      <td>-0.568004</td>\n",
              "      <td>-0.568004</td>\n",
              "    </tr>\n",
              "  </tbody>\n",
              "</table>\n",
              "</div>"
            ],
            "text/plain": [
              "        com       ref\n",
              "0 -0.646290 -0.646290\n",
              "1 -0.912805 -0.912804\n",
              "2 -0.394866 -0.394866\n",
              "3 -0.778438 -0.778438\n",
              "4 -0.568004 -0.568004"
            ]
          },
          "metadata": {
            "tags": []
          },
          "execution_count": 299
        }
      ]
    },
    {
      "cell_type": "code",
      "metadata": {
        "id": "4_SLQxpZxSaI"
      },
      "source": [
        ""
      ],
      "execution_count": 262,
      "outputs": []
    },
    {
      "cell_type": "markdown",
      "metadata": {
        "id": "4LlvnUpZ-VQJ"
      },
      "source": [
        "### Reflection Loss\n",
        "\\begin{equation}\n",
        "Loss_{reflect} = (\\frac{4\\pi (d_1+d_2)}{\\lambda \\Gamma})^2\n",
        "\\end{equation}"
      ]
    }
  ]
}