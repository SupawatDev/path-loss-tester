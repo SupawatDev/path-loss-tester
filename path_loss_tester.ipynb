{
  "nbformat": 4,
  "nbformat_minor": 0,
  "metadata": {
    "colab": {
      "name": "path_loss_tester.ipynb",
      "provenance": [],
      "collapsed_sections": [],
      "toc_visible": true,
      "authorship_tag": "ABX9TyO/mg+PyBjaggGXQte5A/CF",
      "include_colab_link": true
    },
    "kernelspec": {
      "name": "python3",
      "display_name": "Python 3"
    }
  },
  "cells": [
    {
      "cell_type": "markdown",
      "metadata": {
        "id": "view-in-github",
        "colab_type": "text"
      },
      "source": [
        "<a href=\"https://colab.research.google.com/github/SupawatDev/path-loss-tester/blob/master/path_loss_tester.ipynb\" target=\"_parent\"><img src=\"https://colab.research.google.com/assets/colab-badge.svg\" alt=\"Open In Colab\"/></a>"
      ]
    },
    {
      "cell_type": "markdown",
      "metadata": {
        "id": "vnf8o_KJuZVC"
      },
      "source": [
        "# Path Loss Tester\n",
        "Path Loss tester is a tool to verify the result of electromagnetic propagation loss from the generated data from WCsim."
      ]
    },
    {
      "cell_type": "code",
      "metadata": {
        "id": "DndhD5UQt6l5"
      },
      "source": [
        "from google.colab import files\n",
        "from math import pi, log10, cos, sin, asin\n",
        "import numpy as np\n",
        "import pandas as pd\n",
        "import io\n",
        "c = 3e8"
      ],
      "execution_count": 1,
      "outputs": []
    },
    {
      "cell_type": "markdown",
      "metadata": {
        "id": "PKult7yAxmTO"
      },
      "source": [
        "### Import the data"
      ]
    },
    {
      "cell_type": "code",
      "metadata": {
        "id": "Y1TNqe1Rve_9",
        "outputId": "32c8a6b0-7bcb-4eb5-faee-168126ebb23c",
        "colab": {
          "resources": {
            "http://localhost:8080/nbextensions/google.colab/files.js": {
              "data": "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",
              "ok": true,
              "headers": [
                [
                  "content-type",
                  "application/javascript"
                ]
              ],
              "status": 200,
              "status_text": ""
            }
          },
          "base_uri": "https://localhost:8080/",
          "height": 194
        }
      },
      "source": [
        "print(\"Upload files.\")\n",
        "upload = files.upload()"
      ],
      "execution_count": 2,
      "outputs": [
        {
          "output_type": "stream",
          "text": [
            "Upload files.\n"
          ],
          "name": "stdout"
        },
        {
          "output_type": "display_data",
          "data": {
            "text/html": [
              "\n",
              "     <input type=\"file\" id=\"files-fb6a8590-600c-42fb-a6b3-39b318c775cd\" name=\"files[]\" multiple disabled\n",
              "        style=\"border:none\" />\n",
              "     <output id=\"result-fb6a8590-600c-42fb-a6b3-39b318c775cd\">\n",
              "      Upload widget is only available when the cell has been executed in the\n",
              "      current browser session. Please rerun this cell to enable.\n",
              "      </output>\n",
              "      <script src=\"/nbextensions/google.colab/files.js\"></script> "
            ],
            "text/plain": [
              "<IPython.core.display.HTML object>"
            ]
          },
          "metadata": {
            "tags": []
          }
        },
        {
          "output_type": "stream",
          "text": [
            "Saving direct_path.csv to direct_path.csv\n",
            "Saving reflection.csv to reflection.csv\n",
            "Saving single-edge.csv to single-edge.csv\n",
            "Saving multiple-edges.csv to multiple-edges.csv\n"
          ],
          "name": "stdout"
        }
      ]
    },
    {
      "cell_type": "code",
      "metadata": {
        "id": "dk60L8AjwWdz",
        "outputId": "9a6895bd-a0ee-46c2-8bc8-d8a6b8a420b2",
        "colab": {
          "base_uri": "https://localhost:8080/",
          "height": 197
        }
      },
      "source": [
        "#Load .csv data to Pandas\n",
        "direct_data = pd.read_csv(io.BytesIO(upload['direct_path.csv']))\n",
        "ref_data = pd.read_csv(io.BytesIO(upload['reflection.csv']))\n",
        "single_edge_data = pd.read_csv(io.BytesIO(upload['single-edge.csv']))\n",
        "multi_edges_data = pd.read_csv(io.BytesIO(upload['multiple-edges.csv']))\n",
        "direct_data.head()"
      ],
      "execution_count": 3,
      "outputs": [
        {
          "output_type": "execute_result",
          "data": {
            "text/html": [
              "<div>\n",
              "<style scoped>\n",
              "    .dataframe tbody tr th:only-of-type {\n",
              "        vertical-align: middle;\n",
              "    }\n",
              "\n",
              "    .dataframe tbody tr th {\n",
              "        vertical-align: top;\n",
              "    }\n",
              "\n",
              "    .dataframe thead th {\n",
              "        text-align: right;\n",
              "    }\n",
              "</style>\n",
              "<table border=\"1\" class=\"dataframe\">\n",
              "  <thead>\n",
              "    <tr style=\"text-align: right;\">\n",
              "      <th></th>\n",
              "      <th>tx_x_pos</th>\n",
              "      <th>tx_y_pos</th>\n",
              "      <th>tx_z_pos</th>\n",
              "      <th>tx_freq</th>\n",
              "      <th>rx_x_pos</th>\n",
              "      <th>rx_y_pos</th>\n",
              "      <th>rx_z_pos</th>\n",
              "      <th>distance</th>\n",
              "      <th>path_loss_dB</th>\n",
              "    </tr>\n",
              "  </thead>\n",
              "  <tbody>\n",
              "    <tr>\n",
              "      <th>0</th>\n",
              "      <td>0</td>\n",
              "      <td>5</td>\n",
              "      <td>0</td>\n",
              "      <td>2.300000e+09</td>\n",
              "      <td>34</td>\n",
              "      <td>1.5</td>\n",
              "      <td>-59</td>\n",
              "      <td>68.1854</td>\n",
              "      <td>76.3502</td>\n",
              "    </tr>\n",
              "    <tr>\n",
              "      <th>1</th>\n",
              "      <td>0</td>\n",
              "      <td>5</td>\n",
              "      <td>0</td>\n",
              "      <td>2.300000e+09</td>\n",
              "      <td>24</td>\n",
              "      <td>1.5</td>\n",
              "      <td>0</td>\n",
              "      <td>24.2539</td>\n",
              "      <td>67.3719</td>\n",
              "    </tr>\n",
              "    <tr>\n",
              "      <th>2</th>\n",
              "      <td>0</td>\n",
              "      <td>5</td>\n",
              "      <td>0</td>\n",
              "      <td>2.300000e+09</td>\n",
              "      <td>42</td>\n",
              "      <td>1.5</td>\n",
              "      <td>-9</td>\n",
              "      <td>43.0958</td>\n",
              "      <td>72.3650</td>\n",
              "    </tr>\n",
              "    <tr>\n",
              "      <th>3</th>\n",
              "      <td>0</td>\n",
              "      <td>5</td>\n",
              "      <td>0</td>\n",
              "      <td>2.300000e+09</td>\n",
              "      <td>-5</td>\n",
              "      <td>1.5</td>\n",
              "      <td>16</td>\n",
              "      <td>17.1245</td>\n",
              "      <td>64.3487</td>\n",
              "    </tr>\n",
              "    <tr>\n",
              "      <th>4</th>\n",
              "      <td>0</td>\n",
              "      <td>5</td>\n",
              "      <td>0</td>\n",
              "      <td>2.300000e+09</td>\n",
              "      <td>12</td>\n",
              "      <td>1.5</td>\n",
              "      <td>38</td>\n",
              "      <td>40.0031</td>\n",
              "      <td>71.7182</td>\n",
              "    </tr>\n",
              "  </tbody>\n",
              "</table>\n",
              "</div>"
            ],
            "text/plain": [
              "   tx_x_pos   tx_y_pos   tx_z_pos  ...   rx_z_pos   distance   path_loss_dB\n",
              "0         0          5          0  ...        -59    68.1854        76.3502\n",
              "1         0          5          0  ...          0    24.2539        67.3719\n",
              "2         0          5          0  ...         -9    43.0958        72.3650\n",
              "3         0          5          0  ...         16    17.1245        64.3487\n",
              "4         0          5          0  ...         38    40.0031        71.7182\n",
              "\n",
              "[5 rows x 9 columns]"
            ]
          },
          "metadata": {
            "tags": []
          },
          "execution_count": 3
        }
      ]
    },
    {
      "cell_type": "markdown",
      "metadata": {
        "id": "gwWD20J9xzWq"
      },
      "source": [
        "## Direct Path Verification"
      ]
    },
    {
      "cell_type": "markdown",
      "metadata": {
        "id": "bBnrRUV8JF5Q"
      },
      "source": [
        "\\begin{equation}\n",
        "Loss_{direct} = (\\frac{4\\pi d_1}{\\lambda})^2\n",
        "\\end{equation}"
      ]
    },
    {
      "cell_type": "code",
      "metadata": {
        "id": "J4a3hhCJ02Fj"
      },
      "source": [
        "# Function for calculating direct path loss of radio wave propagation.\n",
        "def DirectPath(tx_positions, frequencies, rx_positions):\n",
        "  distance = np.sqrt(np.sum((tx_positions-rx_positions)**2, axis=1))\n",
        "  wave_length = c/frequencies\n",
        "  distance = np.reshape(distance, (-1,1))\n",
        "  wave_length = np.reshape(wave_length, (-1,1))\n",
        "  path_loss = (4*pi*distance/wave_length)**2 # <---- Formula\n",
        "  return 10*np.log10(path_loss)"
      ],
      "execution_count": 4,
      "outputs": []
    },
    {
      "cell_type": "code",
      "metadata": {
        "id": "yyBMpCOIxUmz",
        "outputId": "17b4db7e-bc88-4992-faf7-1e8832dfb3cf",
        "colab": {
          "base_uri": "https://localhost:8080/",
          "height": 215
        }
      },
      "source": [
        "tx_positions = direct_data.iloc[:,0:3].to_numpy()\n",
        "tx_frequencies = direct_data.iloc[:,3:4].to_numpy()\n",
        "rx_positions = direct_data.iloc[:,4:7].to_numpy()\n",
        "computed_result = DirectPath(tx_positions, tx_frequencies, rx_positions).reshape(-1,1)\n",
        "reference_result = direct_data.iloc[:,-1].to_numpy().reshape((-1,1))\n",
        "# Round to 1 digit because the PI value in simulator is not accurate.\n",
        "check_table = pd.DataFrame( {'com':computed_result.ravel(), 'ref': reference_result.ravel()})\n",
        "assert (np.round(computed_result, 1) == np.round(reference_result, 1)).all()\n",
        "print(\"Direct Path Results are correct.\")\n",
        "check_table.head()"
      ],
      "execution_count": 5,
      "outputs": [
        {
          "output_type": "stream",
          "text": [
            "Direct Path Results are correct.\n"
          ],
          "name": "stdout"
        },
        {
          "output_type": "execute_result",
          "data": {
            "text/html": [
              "<div>\n",
              "<style scoped>\n",
              "    .dataframe tbody tr th:only-of-type {\n",
              "        vertical-align: middle;\n",
              "    }\n",
              "\n",
              "    .dataframe tbody tr th {\n",
              "        vertical-align: top;\n",
              "    }\n",
              "\n",
              "    .dataframe thead th {\n",
              "        text-align: right;\n",
              "    }\n",
              "</style>\n",
              "<table border=\"1\" class=\"dataframe\">\n",
              "  <thead>\n",
              "    <tr style=\"text-align: right;\">\n",
              "      <th></th>\n",
              "      <th>com</th>\n",
              "      <th>ref</th>\n",
              "    </tr>\n",
              "  </thead>\n",
              "  <tbody>\n",
              "    <tr>\n",
              "      <th>0</th>\n",
              "      <td>76.350158</td>\n",
              "      <td>76.3502</td>\n",
              "    </tr>\n",
              "    <tr>\n",
              "      <th>1</th>\n",
              "      <td>67.371948</td>\n",
              "      <td>67.3719</td>\n",
              "    </tr>\n",
              "    <tr>\n",
              "      <th>2</th>\n",
              "      <td>72.365033</td>\n",
              "      <td>72.3650</td>\n",
              "    </tr>\n",
              "    <tr>\n",
              "      <th>3</th>\n",
              "      <td>64.348709</td>\n",
              "      <td>64.3487</td>\n",
              "    </tr>\n",
              "    <tr>\n",
              "      <th>4</th>\n",
              "      <td>71.718207</td>\n",
              "      <td>71.7182</td>\n",
              "    </tr>\n",
              "  </tbody>\n",
              "</table>\n",
              "</div>"
            ],
            "text/plain": [
              "         com      ref\n",
              "0  76.350158  76.3502\n",
              "1  67.371948  67.3719\n",
              "2  72.365033  72.3650\n",
              "3  64.348709  64.3487\n",
              "4  71.718207  71.7182"
            ]
          },
          "metadata": {
            "tags": []
          },
          "execution_count": 5
        }
      ]
    },
    {
      "cell_type": "markdown",
      "metadata": {
        "id": "SsiCvX6u_mts"
      },
      "source": [
        "## Reflection Verification"
      ]
    },
    {
      "cell_type": "markdown",
      "metadata": {
        "id": "0ksk1YH0BtAR"
      },
      "source": [
        "### Reflection Coefficient"
      ]
    },
    {
      "cell_type": "markdown",
      "metadata": {
        "id": "dpk-edvvJpYn"
      },
      "source": [
        "\\begin{equation}\n",
        "  \\Gamma_{TE} = \n",
        "  \\begin{cases}\n",
        "    1 , & \\text{ where \\( \\sqrt{\\vert \\frac{n_1}{n_2} \\vert sin\\theta_1 } >=1 \\) } \\\\\n",
        "         \\frac {\\sqrt{n_2} cos(\\theta_1) - \\sqrt{n_2} cos(\\theta_2)}\n",
        "          {\\sqrt{n_1} cos(\\theta_1) + \\sqrt{n_2} cos(\\theta_2)} , &  \\text{ else }\n",
        "  \\end{cases}\n",
        "\\end{equation}\n"
      ]
    },
    {
      "cell_type": "markdown",
      "metadata": {
        "id": "C2CXs_9rKseB"
      },
      "source": [
        "\\begin{equation}\n",
        "  \\Gamma_{TM} =\n",
        "\\end{equation}"
      ]
    },
    {
      "cell_type": "code",
      "metadata": {
        "id": "qXcLWuqYHygy",
        "outputId": "de746ccf-bc34-4b9b-a09f-8b2250a1ad6b",
        "colab": {
          "base_uri": "https://localhost:8080/",
          "height": 197
        }
      },
      "source": [
        "ref_data.head()"
      ],
      "execution_count": 6,
      "outputs": [
        {
          "output_type": "execute_result",
          "data": {
            "text/html": [
              "<div>\n",
              "<style scoped>\n",
              "    .dataframe tbody tr th:only-of-type {\n",
              "        vertical-align: middle;\n",
              "    }\n",
              "\n",
              "    .dataframe tbody tr th {\n",
              "        vertical-align: top;\n",
              "    }\n",
              "\n",
              "    .dataframe thead th {\n",
              "        text-align: right;\n",
              "    }\n",
              "</style>\n",
              "<table border=\"1\" class=\"dataframe\">\n",
              "  <thead>\n",
              "    <tr style=\"text-align: right;\">\n",
              "      <th></th>\n",
              "      <th>tx_x_pos</th>\n",
              "      <th>tx_y_pos</th>\n",
              "      <th>tx_z_pos</th>\n",
              "      <th>tx_freq</th>\n",
              "      <th>rx_x_pos</th>\n",
              "      <th>rx_y_pos</th>\n",
              "      <th>rx_z_pos</th>\n",
              "      <th>ref_x_pos</th>\n",
              "      <th>ref_y_pos</th>\n",
              "      <th>ref_z_pos</th>\n",
              "      <th>tm_or_te</th>\n",
              "      <th>ref_coeff</th>\n",
              "      <th>d1</th>\n",
              "      <th>d2</th>\n",
              "      <th>angle2norm_deg</th>\n",
              "      <th>ref_loss_dB</th>\n",
              "    </tr>\n",
              "  </thead>\n",
              "  <tbody>\n",
              "    <tr>\n",
              "      <th>0</th>\n",
              "      <td>0</td>\n",
              "      <td>5</td>\n",
              "      <td>0</td>\n",
              "      <td>2.300000e+09</td>\n",
              "      <td>34</td>\n",
              "      <td>1.5</td>\n",
              "      <td>-59</td>\n",
              "      <td>36.1217</td>\n",
              "      <td>2.834910</td>\n",
              "      <td>-30.0909</td>\n",
              "      <td>E</td>\n",
              "      <td>-0.646290</td>\n",
              "      <td>47.0630</td>\n",
              "      <td>29.01760</td>\n",
              "      <td>62.83030</td>\n",
              "      <td>81.0933</td>\n",
              "    </tr>\n",
              "    <tr>\n",
              "      <th>1</th>\n",
              "      <td>0</td>\n",
              "      <td>5</td>\n",
              "      <td>0</td>\n",
              "      <td>2.300000e+09</td>\n",
              "      <td>34</td>\n",
              "      <td>1.5</td>\n",
              "      <td>-59</td>\n",
              "      <td>26.1838</td>\n",
              "      <td>0.010512</td>\n",
              "      <td>-45.4366</td>\n",
              "      <td>E</td>\n",
              "      <td>-0.912804</td>\n",
              "      <td>52.6779</td>\n",
              "      <td>15.72510</td>\n",
              "      <td>84.56490</td>\n",
              "      <td>77.1703</td>\n",
              "    </tr>\n",
              "    <tr>\n",
              "      <th>2</th>\n",
              "      <td>0</td>\n",
              "      <td>5</td>\n",
              "      <td>0</td>\n",
              "      <td>2.300000e+09</td>\n",
              "      <td>24</td>\n",
              "      <td>1.5</td>\n",
              "      <td>0</td>\n",
              "      <td>64.1040</td>\n",
              "      <td>2.846930</td>\n",
              "      <td>0.0000</td>\n",
              "      <td>E</td>\n",
              "      <td>-0.394866</td>\n",
              "      <td>64.1402</td>\n",
              "      <td>40.12660</td>\n",
              "      <td>1.92368</td>\n",
              "      <td>88.1103</td>\n",
              "    </tr>\n",
              "    <tr>\n",
              "      <th>3</th>\n",
              "      <td>0</td>\n",
              "      <td>5</td>\n",
              "      <td>0</td>\n",
              "      <td>2.300000e+09</td>\n",
              "      <td>24</td>\n",
              "      <td>1.5</td>\n",
              "      <td>0</td>\n",
              "      <td>18.4833</td>\n",
              "      <td>0.010678</td>\n",
              "      <td>0.0000</td>\n",
              "      <td>E</td>\n",
              "      <td>-0.778438</td>\n",
              "      <td>19.1448</td>\n",
              "      <td>5.71422</td>\n",
              "      <td>74.89300</td>\n",
              "      <td>69.7615</td>\n",
              "    </tr>\n",
              "    <tr>\n",
              "      <th>4</th>\n",
              "      <td>0</td>\n",
              "      <td>5</td>\n",
              "      <td>0</td>\n",
              "      <td>2.300000e+09</td>\n",
              "      <td>42</td>\n",
              "      <td>1.5</td>\n",
              "      <td>-9</td>\n",
              "      <td>41.3905</td>\n",
              "      <td>1.596380</td>\n",
              "      <td>-10.0407</td>\n",
              "      <td>E</td>\n",
              "      <td>-0.568004</td>\n",
              "      <td>42.7267</td>\n",
              "      <td>1.20995</td>\n",
              "      <td>53.49560</td>\n",
              "      <td>77.4458</td>\n",
              "    </tr>\n",
              "  </tbody>\n",
              "</table>\n",
              "</div>"
            ],
            "text/plain": [
              "   tx_x_pos   tx_y_pos   tx_z_pos  ...        d2   angle2norm_deg   ref_loss_dB\n",
              "0         0          5          0  ...  29.01760         62.83030       81.0933\n",
              "1         0          5          0  ...  15.72510         84.56490       77.1703\n",
              "2         0          5          0  ...  40.12660          1.92368       88.1103\n",
              "3         0          5          0  ...   5.71422         74.89300       69.7615\n",
              "4         0          5          0  ...   1.20995         53.49560       77.4458\n",
              "\n",
              "[5 rows x 16 columns]"
            ]
          },
          "metadata": {
            "tags": []
          },
          "execution_count": 6
        }
      ]
    },
    {
      "cell_type": "code",
      "metadata": {
        "id": "yiPg9RY6HmmT"
      },
      "source": [
        "tx_positions = ref_data.iloc[:,0:3].to_numpy().reshape((-1,3))\n",
        "tx_frequencies = ref_data.iloc[:,3:4].to_numpy().reshape((-1,1))\n",
        "rx_positions = ref_data.iloc[:,4:7].to_numpy().reshape((-1, 3))\n",
        "ref_positions = ref_data.iloc[:,7:10].to_numpy().reshape((-1,3))\n",
        "angles = ref_data.iloc[:, -2:-1].to_numpy().reshape((-1, 1))"
      ],
      "execution_count": 7,
      "outputs": []
    },
    {
      "cell_type": "code",
      "metadata": {
        "id": "oQuMm5gH__rV"
      },
      "source": [
        "def ReflectionCoefficient(tx_positions, rx_positions, angle2norm_deg, n_1, n_2, polar):\n",
        "  angle_1 = np.radians(angle2norm_deg)\n",
        "\n",
        "  c1, c2 = c/np.sqrt(n_1), c/np.sqrt(n_2)\n",
        "  angle_2 = np.arcsin(c2*np.sin(angle_1)/c1)\n",
        "\n",
        "  if polar == 'TE':\n",
        "    answer = (np.sqrt(n_1)*np.cos(angle_1) - np.sqrt(n_2)*np.cos(angle_2))/ \\\n",
        "           (np.sqrt(n_1)*np.cos(angle_1) + np.sqrt(n_2)*np.cos(angle_2))\n",
        "\n",
        "  if polar == 'TM':\n",
        "    answer = (np.sqrt(n_2)*np.cos(angle_1) - np.sqrt(n_1)*np.cos(angle_2))/ \\\n",
        "           (np.sqrt(n_2)*np.cos(angle_1) + np.sqrt(n_1)*np.cos(angle_2))\n",
        "\n",
        "  for i in range(len(tx_positions)):\n",
        "    if np.sqrt(np.abs(n_1/n_2)*np.sin(angle_1[i]) ) >= 1:\n",
        "      answer[i] = 1\n",
        "\n",
        "  return answer"
      ],
      "execution_count": 8,
      "outputs": []
    },
    {
      "cell_type": "code",
      "metadata": {
        "id": "db5poP_lv7Sx"
      },
      "source": [
        "angles = ref_data.iloc[:, -2:-1].to_numpy().reshape((-1, 1))"
      ],
      "execution_count": 9,
      "outputs": []
    },
    {
      "cell_type": "code",
      "metadata": {
        "id": "ZQCCUEBownyJ",
        "outputId": "1f86676f-c610-4247-db4e-025e60b52cd3",
        "colab": {
          "base_uri": "https://localhost:8080/",
          "height": 215
        }
      },
      "source": [
        "computed_refl_coe = ReflectionCoefficient(tx_positions, rx_positions, angles, 1.0003, 5.31, 'TE' ).reshape((-1,1))\n",
        "ref_refl_coe = ref_data.iloc[:,-5].to_numpy().reshape((-1,1))\n",
        "check_table = pd.DataFrame( {'computed coefficients':computed_refl_coe.ravel(), 'reference coefficients': ref_refl_coe.ravel()})\n",
        "assert (np.round(computed_refl_coe,2) == np.round(ref_refl_coe,2)).all()\n",
        "print(\"Reflection Coefficient Results are correct.\")\n",
        "check_table.head()"
      ],
      "execution_count": 10,
      "outputs": [
        {
          "output_type": "stream",
          "text": [
            "Reflection Coefficient Results are correct.\n"
          ],
          "name": "stdout"
        },
        {
          "output_type": "execute_result",
          "data": {
            "text/html": [
              "<div>\n",
              "<style scoped>\n",
              "    .dataframe tbody tr th:only-of-type {\n",
              "        vertical-align: middle;\n",
              "    }\n",
              "\n",
              "    .dataframe tbody tr th {\n",
              "        vertical-align: top;\n",
              "    }\n",
              "\n",
              "    .dataframe thead th {\n",
              "        text-align: right;\n",
              "    }\n",
              "</style>\n",
              "<table border=\"1\" class=\"dataframe\">\n",
              "  <thead>\n",
              "    <tr style=\"text-align: right;\">\n",
              "      <th></th>\n",
              "      <th>computed coefficients</th>\n",
              "      <th>reference coefficients</th>\n",
              "    </tr>\n",
              "  </thead>\n",
              "  <tbody>\n",
              "    <tr>\n",
              "      <th>0</th>\n",
              "      <td>-0.646290</td>\n",
              "      <td>-0.646290</td>\n",
              "    </tr>\n",
              "    <tr>\n",
              "      <th>1</th>\n",
              "      <td>-0.912805</td>\n",
              "      <td>-0.912804</td>\n",
              "    </tr>\n",
              "    <tr>\n",
              "      <th>2</th>\n",
              "      <td>-0.394866</td>\n",
              "      <td>-0.394866</td>\n",
              "    </tr>\n",
              "    <tr>\n",
              "      <th>3</th>\n",
              "      <td>-0.778438</td>\n",
              "      <td>-0.778438</td>\n",
              "    </tr>\n",
              "    <tr>\n",
              "      <th>4</th>\n",
              "      <td>-0.568004</td>\n",
              "      <td>-0.568004</td>\n",
              "    </tr>\n",
              "  </tbody>\n",
              "</table>\n",
              "</div>"
            ],
            "text/plain": [
              "   computed coefficients  reference coefficients\n",
              "0              -0.646290               -0.646290\n",
              "1              -0.912805               -0.912804\n",
              "2              -0.394866               -0.394866\n",
              "3              -0.778438               -0.778438\n",
              "4              -0.568004               -0.568004"
            ]
          },
          "metadata": {
            "tags": []
          },
          "execution_count": 10
        }
      ]
    },
    {
      "cell_type": "markdown",
      "metadata": {
        "id": "4LlvnUpZ-VQJ"
      },
      "source": [
        "### Reflection Loss\n",
        "\\begin{equation}\n",
        "Loss_{reflect} = (\\frac{4\\pi (d_1+d_2)}{\\lambda \\Gamma})^2\n",
        "\\end{equation}"
      ]
    },
    {
      "cell_type": "code",
      "metadata": {
        "id": "wlrcGgN4AXoZ"
      },
      "source": [
        "def ReflectionLoss(tx_positions, frequencies, rx_positions, ref_positions,  ref_coefficients):\n",
        "  d_1 = np.sqrt(np.sum((tx_positions-ref_positions)**2, axis=1))\n",
        "  d_2 = np.sqrt(np.sum((rx_positions-ref_positions)**2, axis=1))\n",
        "  wave_lengthes = c/frequencies\n",
        "  loss = (4*pi*(d_1+d_2)/np.multiply(wave_lengthes.ravel(),ref_coefficients.ravel()))**2\n",
        "  return 10*np.log10(loss)"
      ],
      "execution_count": 11,
      "outputs": []
    },
    {
      "cell_type": "code",
      "metadata": {
        "id": "8wiThtnhB3md",
        "outputId": "7f47d97a-df65-447b-8a55-7f9e9c12b362",
        "colab": {
          "base_uri": "https://localhost:8080/",
          "height": 215
        }
      },
      "source": [
        "computed_reflection_loss = ReflectionLoss(tx_positions, tx_frequencies, rx_positions, ref_positions, computed_refl_coe)\n",
        "ref_reflection_loss = ref_data.iloc[:, -1].to_numpy()\n",
        "ref_loss_table = pd.DataFrame( {'computed result [dB]':computed_reflection_loss.ravel(), 'reference result [dB]': ref_reflection_loss.ravel()})\n",
        "assert (np.round(computed_reflection_loss, 1) == np.round(ref_reflection_loss,1) ).all()\n",
        "print(\"Reflection Loss Result are correct\")\n",
        "ref_loss_table.head()"
      ],
      "execution_count": 12,
      "outputs": [
        {
          "output_type": "stream",
          "text": [
            "Reflection Loss Result are correct\n"
          ],
          "name": "stdout"
        },
        {
          "output_type": "execute_result",
          "data": {
            "text/html": [
              "<div>\n",
              "<style scoped>\n",
              "    .dataframe tbody tr th:only-of-type {\n",
              "        vertical-align: middle;\n",
              "    }\n",
              "\n",
              "    .dataframe tbody tr th {\n",
              "        vertical-align: top;\n",
              "    }\n",
              "\n",
              "    .dataframe thead th {\n",
              "        text-align: right;\n",
              "    }\n",
              "</style>\n",
              "<table border=\"1\" class=\"dataframe\">\n",
              "  <thead>\n",
              "    <tr style=\"text-align: right;\">\n",
              "      <th></th>\n",
              "      <th>computed result [dB]</th>\n",
              "      <th>reference result [dB]</th>\n",
              "    </tr>\n",
              "  </thead>\n",
              "  <tbody>\n",
              "    <tr>\n",
              "      <th>0</th>\n",
              "      <td>81.093258</td>\n",
              "      <td>81.0933</td>\n",
              "    </tr>\n",
              "    <tr>\n",
              "      <th>1</th>\n",
              "      <td>77.170282</td>\n",
              "      <td>77.1703</td>\n",
              "    </tr>\n",
              "    <tr>\n",
              "      <th>2</th>\n",
              "      <td>88.110253</td>\n",
              "      <td>88.1103</td>\n",
              "    </tr>\n",
              "    <tr>\n",
              "      <th>3</th>\n",
              "      <td>69.761543</td>\n",
              "      <td>69.7615</td>\n",
              "    </tr>\n",
              "    <tr>\n",
              "      <th>4</th>\n",
              "      <td>77.445838</td>\n",
              "      <td>77.4458</td>\n",
              "    </tr>\n",
              "  </tbody>\n",
              "</table>\n",
              "</div>"
            ],
            "text/plain": [
              "   computed result [dB]  reference result [dB]\n",
              "0             81.093258                81.0933\n",
              "1             77.170282                77.1703\n",
              "2             88.110253                88.1103\n",
              "3             69.761543                69.7615\n",
              "4             77.445838                77.4458"
            ]
          },
          "metadata": {
            "tags": []
          },
          "execution_count": 12
        }
      ]
    },
    {
      "cell_type": "markdown",
      "metadata": {
        "id": "p8SX-h4MGTZO"
      },
      "source": [
        "## Diffraction Verification"
      ]
    },
    {
      "cell_type": "code",
      "metadata": {
        "id": "T8Gmt4QFGxnq",
        "outputId": "5fc8e4ea-b24b-4af8-8941-158e9503dde5",
        "colab": {
          "base_uri": "https://localhost:8080/",
          "height": 197
        }
      },
      "source": [
        "single_edge_data.head()"
      ],
      "execution_count": 13,
      "outputs": [
        {
          "output_type": "execute_result",
          "data": {
            "text/html": [
              "<div>\n",
              "<style scoped>\n",
              "    .dataframe tbody tr th:only-of-type {\n",
              "        vertical-align: middle;\n",
              "    }\n",
              "\n",
              "    .dataframe tbody tr th {\n",
              "        vertical-align: top;\n",
              "    }\n",
              "\n",
              "    .dataframe thead th {\n",
              "        text-align: right;\n",
              "    }\n",
              "</style>\n",
              "<table border=\"1\" class=\"dataframe\">\n",
              "  <thead>\n",
              "    <tr style=\"text-align: right;\">\n",
              "      <th></th>\n",
              "      <th>tx_x_pos</th>\n",
              "      <th>tx_y_pos</th>\n",
              "      <th>tx_z_pos</th>\n",
              "      <th>tx_freq</th>\n",
              "      <th>rx_x_pos</th>\n",
              "      <th>rx_y_pos</th>\n",
              "      <th>rx_z_pos</th>\n",
              "      <th>edge_x_pos</th>\n",
              "      <th>edge_y_pos</th>\n",
              "      <th>edge_z_pos</th>\n",
              "      <th>d1</th>\n",
              "      <th>d2</th>\n",
              "      <th>v</th>\n",
              "      <th>diff_loss_dB</th>\n",
              "      <th>free_space_loss</th>\n",
              "      <th>total_loss_dB</th>\n",
              "    </tr>\n",
              "  </thead>\n",
              "  <tbody>\n",
              "    <tr>\n",
              "      <th>0</th>\n",
              "      <td>0</td>\n",
              "      <td>5</td>\n",
              "      <td>0</td>\n",
              "      <td>2.300000e+09</td>\n",
              "      <td>62</td>\n",
              "      <td>1.5</td>\n",
              "      <td>-22</td>\n",
              "      <td>49.2605</td>\n",
              "      <td>32.1573</td>\n",
              "      <td>-17.4795</td>\n",
              "      <td>58.9037</td>\n",
              "      <td>33.5053</td>\n",
              "      <td>21.3885</td>\n",
              "      <td>39.4883</td>\n",
              "      <td>76.0515</td>\n",
              "      <td>115.540</td>\n",
              "    </tr>\n",
              "    <tr>\n",
              "      <th>1</th>\n",
              "      <td>0</td>\n",
              "      <td>5</td>\n",
              "      <td>0</td>\n",
              "      <td>2.300000e+09</td>\n",
              "      <td>45</td>\n",
              "      <td>1.5</td>\n",
              "      <td>-36</td>\n",
              "      <td>35.3552</td>\n",
              "      <td>26.6196</td>\n",
              "      <td>-28.2842</td>\n",
              "      <td>50.1736</td>\n",
              "      <td>27.9920</td>\n",
              "      <td>19.3120</td>\n",
              "      <td>38.5979</td>\n",
              "      <td>74.9050</td>\n",
              "      <td>113.503</td>\n",
              "    </tr>\n",
              "    <tr>\n",
              "      <th>2</th>\n",
              "      <td>0</td>\n",
              "      <td>5</td>\n",
              "      <td>0</td>\n",
              "      <td>2.300000e+09</td>\n",
              "      <td>61</td>\n",
              "      <td>1.5</td>\n",
              "      <td>-19</td>\n",
              "      <td>51.8878</td>\n",
              "      <td>31.8698</td>\n",
              "      <td>-16.1618</td>\n",
              "      <td>60.6262</td>\n",
              "      <td>31.8342</td>\n",
              "      <td>21.2488</td>\n",
              "      <td>39.4312</td>\n",
              "      <td>75.7981</td>\n",
              "      <td>115.229</td>\n",
              "    </tr>\n",
              "    <tr>\n",
              "      <th>3</th>\n",
              "      <td>0</td>\n",
              "      <td>5</td>\n",
              "      <td>0</td>\n",
              "      <td>2.300000e+09</td>\n",
              "      <td>53</td>\n",
              "      <td>1.5</td>\n",
              "      <td>-96</td>\n",
              "      <td>28.3248</td>\n",
              "      <td>21.4339</td>\n",
              "      <td>-51.3053</td>\n",
              "      <td>60.8654</td>\n",
              "      <td>54.8073</td>\n",
              "      <td>12.9921</td>\n",
              "      <td>35.1401</td>\n",
              "      <td>80.4816</td>\n",
              "      <td>115.622</td>\n",
              "    </tr>\n",
              "    <tr>\n",
              "      <th>4</th>\n",
              "      <td>0</td>\n",
              "      <td>5</td>\n",
              "      <td>0</td>\n",
              "      <td>2.300000e+09</td>\n",
              "      <td>71</td>\n",
              "      <td>1.5</td>\n",
              "      <td>-53</td>\n",
              "      <td>67.7635</td>\n",
              "      <td>29.3966</td>\n",
              "      <td>-50.5840</td>\n",
              "      <td>88.0104</td>\n",
              "      <td>28.1874</td>\n",
              "      <td>20.5179</td>\n",
              "      <td>39.1260</td>\n",
              "      <td>78.6318</td>\n",
              "      <td>117.758</td>\n",
              "    </tr>\n",
              "  </tbody>\n",
              "</table>\n",
              "</div>"
            ],
            "text/plain": [
              "   tx_x_pos   tx_y_pos  ...   free_space_loss   total_loss_dB\n",
              "0         0          5  ...           76.0515         115.540\n",
              "1         0          5  ...           74.9050         113.503\n",
              "2         0          5  ...           75.7981         115.229\n",
              "3         0          5  ...           80.4816         115.622\n",
              "4         0          5  ...           78.6318         117.758\n",
              "\n",
              "[5 rows x 16 columns]"
            ]
          },
          "metadata": {
            "tags": []
          },
          "execution_count": 13
        }
      ]
    },
    {
      "cell_type": "markdown",
      "metadata": {
        "id": "2lIwNuYHGdDi"
      },
      "source": [
        "### Single Edge Diffraction"
      ]
    },
    {
      "cell_type": "markdown",
      "metadata": {
        "id": "bNw838wcLb3t"
      },
      "source": [
        "\\begin{equation}\n",
        "  v = h \\sqrt{\\frac{2(s_1+s_2)}{\\lambda r_1 r_2}}\n",
        "\\end{equation}\n",
        "\n",
        "\\begin{equation}\n",
        "  c_{K.E.} = 6.9 + 20log(\\sqrt{(v-0.1)^2 + 1} + v - 0.1 )\n",
        "\\end{equation}"
      ]
    },
    {
      "cell_type": "code",
      "metadata": {
        "id": "FuYmtWySGpG4"
      },
      "source": [
        "tx_positions = single_edge_data.iloc[:,0:3].to_numpy().reshape((-1,3))\n",
        "tx_frequencies = single_edge_data.iloc[:,3:4].to_numpy().reshape((-1,1))\n",
        "rx_positions = single_edge_data.iloc[:,4:7].to_numpy().reshape((-1, 3))\n",
        "edge_positions = single_edge_data.iloc[:,7:10].to_numpy().reshape((-1,3))\n",
        "ref_v_values = single_edge_data.iloc[:,-4].to_numpy().reshape((-1,1))\n",
        "ref_total_loss = single_edge_data.iloc[:,-1].to_numpy().reshape((-1,1))\n",
        "ref_diff_loss = single_edge_data.iloc[:,-3].to_numpy().reshape((-1,1))\n",
        "ref_fsp_loss = single_edge_data.iloc[:,-2].to_numpy().reshape((-1,1))"
      ],
      "execution_count": 14,
      "outputs": []
    },
    {
      "cell_type": "code",
      "metadata": {
        "id": "Ls5TJjLdC5dm"
      },
      "source": [
        "def NormalzeVector(matrix):\n",
        "  norm = np.sqrt(np.sum( matrix**2,axis=1, keepdims=True))\n",
        "  matrix = matrix/ norm\n",
        "  return matrix"
      ],
      "execution_count": 15,
      "outputs": []
    },
    {
      "cell_type": "code",
      "metadata": {
        "id": "puoGKic_WAEV"
      },
      "source": [
        "# Function that computes the angle between two vectors\n",
        "def AngleTwoVector(vectors_1, vectors_2):\n",
        "  numerator = np.sum(np.multiply(vectors_1, vectors_2),axis=1); \n",
        "  denumerator = np.multiply(np.sqrt(np.sum(vectors_1**2,axis=1)), np.sqrt(np.sum(vectors_2**2,axis=1)))\n",
        "  return np.arccos(numerator/denumerator)"
      ],
      "execution_count": 16,
      "outputs": []
    },
    {
      "cell_type": "code",
      "metadata": {
        "id": "VAWXo_mpI7NE"
      },
      "source": [
        "def ComputeV(tx_positions, tx_frequencies, rx_positions, edge_positions):\n",
        "  tx2rx_dir = NormalzeVector(rx_positions-tx_positions)\n",
        "  rx2tx_dir = -tx2rx_dir\n",
        "  tx2edge_dir = NormalzeVector(edge_positions-tx_positions)\n",
        "  rx2edge_dir = NormalzeVector(edge_positions-rx_positions)\n",
        "  angle_tx = AngleTwoVector(tx2edge_dir, tx2rx_dir).ravel()\n",
        "  angle_rx = AngleTwoVector(rx2edge_dir, rx2tx_dir).ravel()\n",
        "  wave_length = c/tx_frequencies.ravel()\n",
        "  r1 = np.sqrt(np.sum((tx_positions-edge_positions)**2, axis=1)).ravel()\n",
        "  r2 = np.sqrt(np.sum((rx_positions-edge_positions)**2, axis=1)).ravel()\n",
        "  d1 = np.multiply(np.cos(angle_tx),r1).ravel()\n",
        "  d2 = np.multiply(np.cos(angle_rx),r2).ravel()\n",
        "  h1 = np.multiply(np.sin(angle_tx),r1).ravel()\n",
        "  h2 = np.multiply(np.sin(angle_rx),r2).ravel()\n",
        "  assert (np.round(h1,2) == np.round(h2,2)).all() # h should be equal\n",
        "  h = h1\n",
        "  v = np.multiply(h, np.sqrt(2*(d1 + d2)/(wave_length*r1*r2)))\n",
        "  return v"
      ],
      "execution_count": 17,
      "outputs": []
    },
    {
      "cell_type": "code",
      "metadata": {
        "id": "HZRrOxwr5jmR"
      },
      "source": [
        "def ComputeDiffractionFromV(v_list):\n",
        "  v = v_list.ravel()\n",
        "  return 6.9 + 20 * np.log10(np.sqrt((v_list - 0.1)**2 + 1) + v_list - 0.1)"
      ],
      "execution_count": 18,
      "outputs": []
    },
    {
      "cell_type": "code",
      "metadata": {
        "id": "wwdBUezPmw8I",
        "outputId": "23f3534d-439f-4dcc-dedd-897d18445c1d",
        "colab": {
          "base_uri": "https://localhost:8080/",
          "height": 215
        }
      },
      "source": [
        "computed_v = ComputeV(tx_positions, tx_frequencies, rx_positions, edge_positions)\n",
        "computed_v = computed_v.ravel()\n",
        "ref_v_values = ref_v_values.ravel()\n",
        "assert (np.round(computed_v, 1) == np.round(ref_v_values, 1) ).all()\n",
        "v_table = pd.DataFrame( {'computed V':computed_v, 'reference V': ref_v_values})\n",
        "print(\"V Results are correct\")\n",
        "v_table.head()"
      ],
      "execution_count": 19,
      "outputs": [
        {
          "output_type": "stream",
          "text": [
            "V Results are correct\n"
          ],
          "name": "stdout"
        },
        {
          "output_type": "execute_result",
          "data": {
            "text/html": [
              "<div>\n",
              "<style scoped>\n",
              "    .dataframe tbody tr th:only-of-type {\n",
              "        vertical-align: middle;\n",
              "    }\n",
              "\n",
              "    .dataframe tbody tr th {\n",
              "        vertical-align: top;\n",
              "    }\n",
              "\n",
              "    .dataframe thead th {\n",
              "        text-align: right;\n",
              "    }\n",
              "</style>\n",
              "<table border=\"1\" class=\"dataframe\">\n",
              "  <thead>\n",
              "    <tr style=\"text-align: right;\">\n",
              "      <th></th>\n",
              "      <th>computed V</th>\n",
              "      <th>reference V</th>\n",
              "    </tr>\n",
              "  </thead>\n",
              "  <tbody>\n",
              "    <tr>\n",
              "      <th>0</th>\n",
              "      <td>21.388500</td>\n",
              "      <td>21.3885</td>\n",
              "    </tr>\n",
              "    <tr>\n",
              "      <th>1</th>\n",
              "      <td>19.311991</td>\n",
              "      <td>19.3120</td>\n",
              "    </tr>\n",
              "    <tr>\n",
              "      <th>2</th>\n",
              "      <td>21.248819</td>\n",
              "      <td>21.2488</td>\n",
              "    </tr>\n",
              "    <tr>\n",
              "      <th>3</th>\n",
              "      <td>12.992119</td>\n",
              "      <td>12.9921</td>\n",
              "    </tr>\n",
              "    <tr>\n",
              "      <th>4</th>\n",
              "      <td>20.517852</td>\n",
              "      <td>20.5179</td>\n",
              "    </tr>\n",
              "  </tbody>\n",
              "</table>\n",
              "</div>"
            ],
            "text/plain": [
              "   computed V  reference V\n",
              "0   21.388500      21.3885\n",
              "1   19.311991      19.3120\n",
              "2   21.248819      21.2488\n",
              "3   12.992119      12.9921\n",
              "4   20.517852      20.5179"
            ]
          },
          "metadata": {
            "tags": []
          },
          "execution_count": 19
        }
      ]
    },
    {
      "cell_type": "code",
      "metadata": {
        "id": "YRBZT5rp5pcc",
        "outputId": "2c8d9853-9a86-4912-fcb3-17c18a332d2b",
        "colab": {
          "base_uri": "https://localhost:8080/",
          "height": 215
        }
      },
      "source": [
        "#computed_single_loss = ComputeDiffractionFromV(computed_v) \\\n",
        "#                        + DirectPath(tx_positions, tx_frequencies, rx_positions);\n",
        "computed_single_loss = ComputeDiffractionFromV(computed_v).ravel()\n",
        "ref_diff_loss = ref_diff_loss.ravel()\n",
        "\n",
        "single_result_table = pd.DataFrame( {'computed diff loss': computed_single_loss,\\\n",
        "                                     'reference diff loss': ref_diff_loss})\n",
        "\n",
        "assert (np.round(computed_single_loss, 1) == np.round(ref_diff_loss, 1) ).all()\n",
        "print(\"Single Diffraction Results are correct\")\n",
        "single_result_table.head()"
      ],
      "execution_count": 20,
      "outputs": [
        {
          "output_type": "stream",
          "text": [
            "Single Diffraction Results are correct\n"
          ],
          "name": "stdout"
        },
        {
          "output_type": "execute_result",
          "data": {
            "text/html": [
              "<div>\n",
              "<style scoped>\n",
              "    .dataframe tbody tr th:only-of-type {\n",
              "        vertical-align: middle;\n",
              "    }\n",
              "\n",
              "    .dataframe tbody tr th {\n",
              "        vertical-align: top;\n",
              "    }\n",
              "\n",
              "    .dataframe thead th {\n",
              "        text-align: right;\n",
              "    }\n",
              "</style>\n",
              "<table border=\"1\" class=\"dataframe\">\n",
              "  <thead>\n",
              "    <tr style=\"text-align: right;\">\n",
              "      <th></th>\n",
              "      <th>computed diff loss</th>\n",
              "      <th>reference diff loss</th>\n",
              "    </tr>\n",
              "  </thead>\n",
              "  <tbody>\n",
              "    <tr>\n",
              "      <th>0</th>\n",
              "      <td>39.488289</td>\n",
              "      <td>39.4883</td>\n",
              "    </tr>\n",
              "    <tr>\n",
              "      <th>1</th>\n",
              "      <td>38.597924</td>\n",
              "      <td>38.5979</td>\n",
              "    </tr>\n",
              "    <tr>\n",
              "      <th>2</th>\n",
              "      <td>39.431173</td>\n",
              "      <td>39.4312</td>\n",
              "    </tr>\n",
              "    <tr>\n",
              "      <th>3</th>\n",
              "      <td>35.140122</td>\n",
              "      <td>35.1401</td>\n",
              "    </tr>\n",
              "    <tr>\n",
              "      <th>4</th>\n",
              "      <td>39.126005</td>\n",
              "      <td>39.1260</td>\n",
              "    </tr>\n",
              "  </tbody>\n",
              "</table>\n",
              "</div>"
            ],
            "text/plain": [
              "   computed diff loss  reference diff loss\n",
              "0           39.488289              39.4883\n",
              "1           38.597924              38.5979\n",
              "2           39.431173              39.4312\n",
              "3           35.140122              35.1401\n",
              "4           39.126005              39.1260"
            ]
          },
          "metadata": {
            "tags": []
          },
          "execution_count": 20
        }
      ]
    },
    {
      "cell_type": "markdown",
      "metadata": {
        "id": "CRN2QcR7GfPc"
      },
      "source": [
        "### Multiple Edges Diffraction"
      ]
    },
    {
      "cell_type": "markdown",
      "metadata": {
        "id": "OjvxsmZpBgtO"
      },
      "source": [
        "\\begin{equation}\n",
        "  C_1 = C(P_{Tx}, P_{Tx \\ edge}, P_{center\\ edge}) \\\\\n",
        "\\end{equation}\n",
        "\\begin{equation}\n",
        "  C_2 = C(P_{Tx}, P_{center\\ edge}, P_{Rx})\\\\\n",
        "\\end{equation}\n",
        "\\begin{equation}\n",
        "  C_3 =  C(P_{center\\ edge}, P_{Rx \\ edge}, P_{Rx})\\\\\n",
        "\\end{equation}\n",
        "\\begin{equation}\n",
        "  C_d = C_2 + C_1 + C_3 - \\hat{C_1} - \\hat{C_2}\n",
        "\\end{equation}"
      ]
    },
    {
      "cell_type": "code",
      "metadata": {
        "id": "Up7XN23v74H8",
        "outputId": "179c9190-67e5-45db-c9a4-a11e890e2364",
        "colab": {
          "base_uri": "https://localhost:8080/",
          "height": 217
        }
      },
      "source": [
        "multi_edges_data.head()"
      ],
      "execution_count": 21,
      "outputs": [
        {
          "output_type": "execute_result",
          "data": {
            "text/html": [
              "<div>\n",
              "<style scoped>\n",
              "    .dataframe tbody tr th:only-of-type {\n",
              "        vertical-align: middle;\n",
              "    }\n",
              "\n",
              "    .dataframe tbody tr th {\n",
              "        vertical-align: top;\n",
              "    }\n",
              "\n",
              "    .dataframe thead th {\n",
              "        text-align: right;\n",
              "    }\n",
              "</style>\n",
              "<table border=\"1\" class=\"dataframe\">\n",
              "  <thead>\n",
              "    <tr style=\"text-align: right;\">\n",
              "      <th></th>\n",
              "      <th>tx_x_pos</th>\n",
              "      <th>tx_y_pos</th>\n",
              "      <th>tx_z_pos</th>\n",
              "      <th>tx_freq</th>\n",
              "      <th>rx_x_pos</th>\n",
              "      <th>rx_y_pos</th>\n",
              "      <th>rx_z_pos</th>\n",
              "      <th>near_tx_x_pos</th>\n",
              "      <th>near_tx_y_pos</th>\n",
              "      <th>near_tx_z_pos</th>\n",
              "      <th>center_x_pos</th>\n",
              "      <th>center_y_pos</th>\n",
              "      <th>center_z_pos</th>\n",
              "      <th>near_rx_x_pos</th>\n",
              "      <th>near_rx_y_pos</th>\n",
              "      <th>near_rx_z_pos</th>\n",
              "      <th>d1</th>\n",
              "      <th>d2</th>\n",
              "      <th>d3</th>\n",
              "      <th>d4</th>\n",
              "      <th>v_near_tx</th>\n",
              "      <th>v_cen</th>\n",
              "      <th>v_near_rx</th>\n",
              "      <th>c_v_near_tx</th>\n",
              "      <th>c_v_cen</th>\n",
              "      <th>c_v_near_rx</th>\n",
              "      <th>c1_correct</th>\n",
              "      <th>c2_correct</th>\n",
              "      <th>diff_los_dB</th>\n",
              "      <th>free_space_loss</th>\n",
              "      <th>total_loss_dB</th>\n",
              "    </tr>\n",
              "  </thead>\n",
              "  <tbody>\n",
              "    <tr>\n",
              "      <th>0</th>\n",
              "      <td>0</td>\n",
              "      <td>5</td>\n",
              "      <td>0</td>\n",
              "      <td>2.300000e+09</td>\n",
              "      <td>91</td>\n",
              "      <td>1.5</td>\n",
              "      <td>-73</td>\n",
              "      <td>35.40520</td>\n",
              "      <td>26.4376</td>\n",
              "      <td>-28.4020</td>\n",
              "      <td>64.7376</td>\n",
              "      <td>31.6842</td>\n",
              "      <td>-51.9324</td>\n",
              "      <td>66.3098</td>\n",
              "      <td>31.7675</td>\n",
              "      <td>-53.1936</td>\n",
              "      <td>50.1973</td>\n",
              "      <td>37.968300</td>\n",
              "      <td>2.01735</td>\n",
              "      <td>43.7952</td>\n",
              "      <td>5.45653</td>\n",
              "      <td>19.6483</td>\n",
              "      <td>3.94294</td>\n",
              "      <td>27.5730</td>\n",
              "      <td>38.7485</td>\n",
              "      <td>24.7573</td>\n",
              "      <td>-2.630610</td>\n",
              "      <td>-7.655860</td>\n",
              "      <td>101.365</td>\n",
              "      <td>81.0188</td>\n",
              "      <td>182.384</td>\n",
              "    </tr>\n",
              "    <tr>\n",
              "      <th>1</th>\n",
              "      <td>0</td>\n",
              "      <td>5</td>\n",
              "      <td>0</td>\n",
              "      <td>2.300000e+09</td>\n",
              "      <td>-71</td>\n",
              "      <td>1.5</td>\n",
              "      <td>93</td>\n",
              "      <td>-29.59120</td>\n",
              "      <td>27.5186</td>\n",
              "      <td>38.7602</td>\n",
              "      <td>-50.7980</td>\n",
              "      <td>31.8976</td>\n",
              "      <td>66.5382</td>\n",
              "      <td>-61.8813</td>\n",
              "      <td>26.7216</td>\n",
              "      <td>81.0558</td>\n",
              "      <td>53.7129</td>\n",
              "      <td>35.221100</td>\n",
              "      <td>18.98390</td>\n",
              "      <td>29.3589</td>\n",
              "      <td>5.50555</td>\n",
              "      <td>19.7757</td>\n",
              "      <td>9.45856</td>\n",
              "      <td>27.6508</td>\n",
              "      <td>38.8048</td>\n",
              "      <td>32.3695</td>\n",
              "      <td>-2.747610</td>\n",
              "      <td>-0.264993</td>\n",
              "      <td>101.838</td>\n",
              "      <td>81.0442</td>\n",
              "      <td>182.882</td>\n",
              "    </tr>\n",
              "    <tr>\n",
              "      <th>2</th>\n",
              "      <td>0</td>\n",
              "      <td>5</td>\n",
              "      <td>0</td>\n",
              "      <td>2.300000e+09</td>\n",
              "      <td>77</td>\n",
              "      <td>1.5</td>\n",
              "      <td>-30</td>\n",
              "      <td>46.67420</td>\n",
              "      <td>31.7181</td>\n",
              "      <td>-18.1847</td>\n",
              "      <td>47.3652</td>\n",
              "      <td>31.6293</td>\n",
              "      <td>-18.4540</td>\n",
              "      <td>54.0084</td>\n",
              "      <td>26.1107</td>\n",
              "      <td>-21.0422</td>\n",
              "      <td>56.7716</td>\n",
              "      <td>0.746949</td>\n",
              "      <td>9.01590</td>\n",
              "      <td>34.8502</td>\n",
              "      <td>1.92332</td>\n",
              "      <td>20.4244</td>\n",
              "      <td>1.31133</td>\n",
              "      <td>18.7277</td>\n",
              "      <td>39.0862</td>\n",
              "      <td>15.7875</td>\n",
              "      <td>-14.090100</td>\n",
              "      <td>-14.269100</td>\n",
              "      <td>101.961</td>\n",
              "      <td>78.0277</td>\n",
              "      <td>179.988</td>\n",
              "    </tr>\n",
              "    <tr>\n",
              "      <th>3</th>\n",
              "      <td>0</td>\n",
              "      <td>5</td>\n",
              "      <td>0</td>\n",
              "      <td>2.300000e+09</td>\n",
              "      <td>-93</td>\n",
              "      <td>1.5</td>\n",
              "      <td>-52</td>\n",
              "      <td>-37.85300</td>\n",
              "      <td>20.0334</td>\n",
              "      <td>-21.1651</td>\n",
              "      <td>-75.1767</td>\n",
              "      <td>31.6728</td>\n",
              "      <td>-42.0343</td>\n",
              "      <td>-77.5457</td>\n",
              "      <td>29.1664</td>\n",
              "      <td>-43.3589</td>\n",
              "      <td>45.9001</td>\n",
              "      <td>44.317700</td>\n",
              "      <td>3.69450</td>\n",
              "      <td>32.8471</td>\n",
              "      <td>1.26255</td>\n",
              "      <td>20.7999</td>\n",
              "      <td>1.80862</td>\n",
              "      <td>15.5145</td>\n",
              "      <td>39.2450</td>\n",
              "      <td>18.2367</td>\n",
              "      <td>-7.152610</td>\n",
              "      <td>-13.760200</td>\n",
              "      <td>93.909</td>\n",
              "      <td>80.2321</td>\n",
              "      <td>174.141</td>\n",
              "    </tr>\n",
              "    <tr>\n",
              "      <th>4</th>\n",
              "      <td>0</td>\n",
              "      <td>5</td>\n",
              "      <td>0</td>\n",
              "      <td>2.300000e+09</td>\n",
              "      <td>19</td>\n",
              "      <td>1.5</td>\n",
              "      <td>-100</td>\n",
              "      <td>7.78413</td>\n",
              "      <td>29.5944</td>\n",
              "      <td>-40.9691</td>\n",
              "      <td>17.1596</td>\n",
              "      <td>31.7358</td>\n",
              "      <td>-90.3139</td>\n",
              "      <td>17.7837</td>\n",
              "      <td>29.6554</td>\n",
              "      <td>-93.5985</td>\n",
              "      <td>48.4143</td>\n",
              "      <td>50.273200</td>\n",
              "      <td>3.93781</td>\n",
              "      <td>28.8995</td>\n",
              "      <td>9.29634</td>\n",
              "      <td>21.3988</td>\n",
              "      <td>5.24474</td>\n",
              "      <td>32.2185</td>\n",
              "      <td>39.4925</td>\n",
              "      <td>27.2288</td>\n",
              "      <td>-0.347589</td>\n",
              "      <td>-5.001980</td>\n",
              "      <td>104.289</td>\n",
              "      <td>79.8355</td>\n",
              "      <td>184.125</td>\n",
              "    </tr>\n",
              "  </tbody>\n",
              "</table>\n",
              "</div>"
            ],
            "text/plain": [
              "   tx_x_pos   tx_y_pos  ...   free_space_loss    total_loss_dB\n",
              "0         0          5  ...            81.0188         182.384\n",
              "1         0          5  ...            81.0442         182.882\n",
              "2         0          5  ...            78.0277         179.988\n",
              "3         0          5  ...            80.2321         174.141\n",
              "4         0          5  ...            79.8355         184.125\n",
              "\n",
              "[5 rows x 31 columns]"
            ]
          },
          "metadata": {
            "tags": []
          },
          "execution_count": 21
        }
      ]
    },
    {
      "cell_type": "code",
      "metadata": {
        "id": "NZ33aX5ZA1JC"
      },
      "source": [
        "tx_positions = multi_edges_data.iloc[:,0:3].to_numpy().reshape((-1,3))\n",
        "tx_frequencies = multi_edges_data.iloc[:,3].to_numpy().reshape((-1,1))\n",
        "rx_positions = multi_edges_data.iloc[:,4:7].to_numpy().reshape((-1, 3))\n",
        "near_tx_edges = multi_edges_data.iloc[:,7:10].to_numpy().reshape((-1,3))\n",
        "center_edges = multi_edges_data.iloc[:,10:13].to_numpy().reshape((-1,3))\n",
        "near_rx_edges = multi_edges_data.iloc[:,13:16].to_numpy().reshape((-1,3))\n",
        "\n",
        "ref_c_tx = multi_edges_data.iloc[:, -8].to_numpy().ravel()\n",
        "ref_c_cen = multi_edges_data.iloc[:, -7].to_numpy().ravel()\n",
        "ref_c_rx = multi_edges_data.iloc[:, -6].to_numpy().ravel()\n",
        "\n",
        "ref_c1_cor =  multi_edges_data.iloc[:, -5].to_numpy().ravel()\n",
        "ref_c2_cor =  multi_edges_data.iloc[:, -4].to_numpy().ravel()"
      ],
      "execution_count": 79,
      "outputs": []
    },
    {
      "cell_type": "code",
      "metadata": {
        "id": "7OoCgNsbBZ8i"
      },
      "source": [
        "computed_c_tx = ComputeDiffractionFromV(ComputeV(tx_positions, tx_frequencies, center_edges, near_tx_edges)).ravel()\n",
        "computed_c_cen = ComputeDiffractionFromV(ComputeV(tx_positions, tx_frequencies, rx_positions, center_edges)).ravel()\n",
        "computed_c_rx = ComputeDiffractionFromV(ComputeV(center_edges, tx_frequencies, rx_positions, near_rx_edges)).ravel()\n"
      ],
      "execution_count": 23,
      "outputs": []
    },
    {
      "cell_type": "code",
      "metadata": {
        "id": "L6v7X48nHhJY",
        "outputId": "a60987ed-a402-46dc-f66a-8ae58a6956e4",
        "colab": {
          "base_uri": "https://localhost:8080/",
          "height": 34
        }
      },
      "source": [
        "assert  (computed_c_tx.round(0) == ref_c_tx.round(0)).all() and \\\n",
        "        (computed_c_cen.round(0) == ref_c_cen.round(0)).all() and \\\n",
        "        (computed_c_rx.round(0) == ref_c_rx.round(0)).all()\n",
        "\n",
        "c_table = pd.DataFrame( {'computed C near TX': computed_c_tx,\\\n",
        "                         'reference C near X': ref_c_tx,\\\n",
        "                         'computed C center': computed_c_cen,\\\n",
        "                         'referenced C center': ref_c_cen,\\\n",
        "                         'computed C near RX': computed_c_rx,\\\n",
        "                         'referenced C near RX': ref_c_rx })\n",
        "print('Multiple Diffraction Result are correct.')"
      ],
      "execution_count": 24,
      "outputs": [
        {
          "output_type": "stream",
          "text": [
            "Multiple Diffraction Result are correct.\n"
          ],
          "name": "stdout"
        }
      ]
    },
    {
      "cell_type": "code",
      "metadata": {
        "id": "NoQEiFRyHlW-",
        "outputId": "5228767c-a3d3-496b-d903-fdf7156326f4",
        "colab": {
          "base_uri": "https://localhost:8080/",
          "height": 167
        }
      },
      "source": [
        "c_table.head(4)"
      ],
      "execution_count": 25,
      "outputs": [
        {
          "output_type": "execute_result",
          "data": {
            "text/html": [
              "<div>\n",
              "<style scoped>\n",
              "    .dataframe tbody tr th:only-of-type {\n",
              "        vertical-align: middle;\n",
              "    }\n",
              "\n",
              "    .dataframe tbody tr th {\n",
              "        vertical-align: top;\n",
              "    }\n",
              "\n",
              "    .dataframe thead th {\n",
              "        text-align: right;\n",
              "    }\n",
              "</style>\n",
              "<table border=\"1\" class=\"dataframe\">\n",
              "  <thead>\n",
              "    <tr style=\"text-align: right;\">\n",
              "      <th></th>\n",
              "      <th>computed C near TX</th>\n",
              "      <th>reference C near X</th>\n",
              "      <th>computed C center</th>\n",
              "      <th>referenced C center</th>\n",
              "      <th>computed C near RX</th>\n",
              "      <th>referenced C near RX</th>\n",
              "    </tr>\n",
              "  </thead>\n",
              "  <tbody>\n",
              "    <tr>\n",
              "      <th>0</th>\n",
              "      <td>27.572922</td>\n",
              "      <td>27.5730</td>\n",
              "      <td>38.748462</td>\n",
              "      <td>38.7485</td>\n",
              "      <td>24.757198</td>\n",
              "      <td>24.7573</td>\n",
              "    </tr>\n",
              "    <tr>\n",
              "      <th>1</th>\n",
              "      <td>27.650739</td>\n",
              "      <td>27.6508</td>\n",
              "      <td>38.804814</td>\n",
              "      <td>38.8048</td>\n",
              "      <td>32.369435</td>\n",
              "      <td>32.3695</td>\n",
              "    </tr>\n",
              "    <tr>\n",
              "      <th>2</th>\n",
              "      <td>18.738836</td>\n",
              "      <td>18.7277</td>\n",
              "      <td>39.086212</td>\n",
              "      <td>39.0862</td>\n",
              "      <td>15.787828</td>\n",
              "      <td>15.7875</td>\n",
              "    </tr>\n",
              "    <tr>\n",
              "      <th>3</th>\n",
              "      <td>15.513988</td>\n",
              "      <td>15.5145</td>\n",
              "      <td>39.245023</td>\n",
              "      <td>39.2450</td>\n",
              "      <td>18.237056</td>\n",
              "      <td>18.2367</td>\n",
              "    </tr>\n",
              "  </tbody>\n",
              "</table>\n",
              "</div>"
            ],
            "text/plain": [
              "   computed C near TX  ...  referenced C near RX\n",
              "0           27.572922  ...               24.7573\n",
              "1           27.650739  ...               32.3695\n",
              "2           18.738836  ...               15.7875\n",
              "3           15.513988  ...               18.2367\n",
              "\n",
              "[4 rows x 6 columns]"
            ]
          },
          "metadata": {
            "tags": []
          },
          "execution_count": 25
        }
      ]
    },
    {
      "cell_type": "markdown",
      "metadata": {
        "id": "O4zZ-IcVz3Wm"
      },
      "source": [
        "### Correction\n",
        "\\begin{equation}\n",
        "  cos\\alpha_1 = \\sqrt{\\frac{(d_1(d_3+d_4))}{(d_1+d_2)(d_2+d_3+d_4)}}\n",
        "\\end{equation}\n",
        "\\begin{equation}\n",
        "  cos\\alpha_2 = \\sqrt{\\frac{(d_4(d_1+d_2))}{(d_3+d_4)(d_2+d_3+d_1)}}\n",
        "\\end{equation}\n"
      ]
    },
    {
      "cell_type": "markdown",
      "metadata": {
        "id": "rlmPV6TZ4F7B"
      },
      "source": [
        "\n",
        "![correction_diff.PNG](data:image/png;base64,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)"
      ]
    },
    {
      "cell_type": "code",
      "metadata": {
        "id": "vwf2UHFRIJtv"
      },
      "source": [
        "def CorrectionCos(tx_positions, near_tx_edges, center_edges, near_rx_edges, rx_positions):\n",
        "  # Shallow copy \n",
        "  p1, p2, p3 = np.copy(tx_positions), np.copy(near_tx_edges), np.copy(center_edges)\n",
        "  p4, p5 = np.copy(near_rx_edges), np.copy(rx_positions)\n",
        "  # Convert positions to be on ground plane.\n",
        "  p1[:,1], p2[:,1], p3[:,1], p4[:,1], p5[:,1] = 0,0,0,0,0\n",
        "  # get distance d1, d2, d3, d4.\n",
        "  d1 =  np.sqrt(np.sum((p2-p1)**2, axis=1)).ravel()\n",
        "  d2 =  np.sqrt(np.sum((p3-p2)**2, axis=1)).ravel()\n",
        "  d3 =  np.sqrt(np.sum((p4-p3)**2, axis=1)).ravel()\n",
        "  d4 =  np.sqrt(np.sum((p5-p4)**2, axis=1)).ravel()\n",
        "  # insert ds according to the formulas above.\n",
        "  cos1 = np.sqrt( np.multiply(d1, (d3+d4))/np.multiply(d1+d2, d2+d3+d4) )\n",
        "  cos2 = np.sqrt( np.multiply(d4, (d1+d2))/np.multiply(d3+d4, d2+d3+d1))\n",
        "  return cos1, cos2"
      ],
      "execution_count": 74,
      "outputs": []
    },
    {
      "cell_type": "code",
      "metadata": {
        "id": "fytwwVjC7HKg",
        "outputId": "5d475012-d54c-4c7a-c444-3242c84c2cd0",
        "colab": {
          "base_uri": "https://localhost:8080/",
          "height": 123
        }
      },
      "source": [
        "cos1, cos2 = CorrectionCos(tx_positions, near_tx_edges, center_edges, near_rx_edges, rx_positions)\n",
        "c_cap_1 = (6 - computed_c_cen + computed_c_tx)*cos1\n",
        "c_cap_2 = (6 - computed_c_cen + computed_c_rx)*cos2\n",
        "\n",
        "print(c_cap_1) \n",
        "print(c_cap_2)"
      ],
      "execution_count": 78,
      "outputs": [
        {
          "output_type": "stream",
          "text": [
            "[ -2.63063698  -2.74763536 -14.07912939  -7.15279101  -0.34759527\n",
            "  -2.55210378  -1.74788613  -7.01336932  -2.0502593  -25.09588246\n",
            "  -1.57769785]\n",
            "[-7.65596844e+00 -2.65020864e-01 -1.42688321e+01 -1.37598986e+01\n",
            " -5.00187320e+00 -1.05966721e+01 -2.53399415e+01 -2.70411618e+01\n",
            " -2.08210775e-02 -4.18938247e-03 -7.74516283e+00]\n"
          ],
          "name": "stdout"
        }
      ]
    },
    {
      "cell_type": "code",
      "metadata": {
        "id": "AaJ5QaUM9MG_"
      },
      "source": [
        "correct_table = pd.DataFrame( { 'computed Correct 1': c_cap_1,\\\n",
        "                                'reference Correct 1': ref_c1_cor,\\\n",
        "                                'computed Correct 2': c_cap_2,\\\n",
        "                                'referenced Correct 2': ref_c2_cor})"
      ],
      "execution_count": 94,
      "outputs": []
    },
    {
      "cell_type": "code",
      "metadata": {
        "id": "NUc5M1w__mYR",
        "outputId": "2bf98ca6-186a-431d-caca-151f84509fcc",
        "colab": {
          "base_uri": "https://localhost:8080/",
          "height": 215
        }
      },
      "source": [
        "assert  (c_cap_1.round(0) == ref_c1_cor.round(0)).all() and \\\n",
        "        (c_cap_2.round(0) == ref_c2_cor.round(0)).all()\n",
        "print('Diffraction Correction Result are correct.')\n",
        "correct_table.head()"
      ],
      "execution_count": 95,
      "outputs": [
        {
          "output_type": "stream",
          "text": [
            "Diffraction Correction Result are correct.\n"
          ],
          "name": "stdout"
        },
        {
          "output_type": "execute_result",
          "data": {
            "text/html": [
              "<div>\n",
              "<style scoped>\n",
              "    .dataframe tbody tr th:only-of-type {\n",
              "        vertical-align: middle;\n",
              "    }\n",
              "\n",
              "    .dataframe tbody tr th {\n",
              "        vertical-align: top;\n",
              "    }\n",
              "\n",
              "    .dataframe thead th {\n",
              "        text-align: right;\n",
              "    }\n",
              "</style>\n",
              "<table border=\"1\" class=\"dataframe\">\n",
              "  <thead>\n",
              "    <tr style=\"text-align: right;\">\n",
              "      <th></th>\n",
              "      <th>computed Correct 1</th>\n",
              "      <th>reference Correct 1</th>\n",
              "      <th>computed Correct 2</th>\n",
              "      <th>referenced Correct 2</th>\n",
              "    </tr>\n",
              "  </thead>\n",
              "  <tbody>\n",
              "    <tr>\n",
              "      <th>0</th>\n",
              "      <td>-2.630637</td>\n",
              "      <td>-2.630610</td>\n",
              "      <td>-7.655968</td>\n",
              "      <td>-7.655860</td>\n",
              "    </tr>\n",
              "    <tr>\n",
              "      <th>1</th>\n",
              "      <td>-2.747635</td>\n",
              "      <td>-2.747610</td>\n",
              "      <td>-0.265021</td>\n",
              "      <td>-0.264993</td>\n",
              "    </tr>\n",
              "    <tr>\n",
              "      <th>2</th>\n",
              "      <td>-14.079129</td>\n",
              "      <td>-14.090100</td>\n",
              "      <td>-14.268832</td>\n",
              "      <td>-14.269100</td>\n",
              "    </tr>\n",
              "    <tr>\n",
              "      <th>3</th>\n",
              "      <td>-7.152791</td>\n",
              "      <td>-7.152610</td>\n",
              "      <td>-13.759899</td>\n",
              "      <td>-13.760200</td>\n",
              "    </tr>\n",
              "    <tr>\n",
              "      <th>4</th>\n",
              "      <td>-0.347595</td>\n",
              "      <td>-0.347589</td>\n",
              "      <td>-5.001873</td>\n",
              "      <td>-5.001980</td>\n",
              "    </tr>\n",
              "  </tbody>\n",
              "</table>\n",
              "</div>"
            ],
            "text/plain": [
              "   computed Correct 1  ...  referenced Correct 2\n",
              "0           -2.630637  ...             -7.655860\n",
              "1           -2.747635  ...             -0.264993\n",
              "2          -14.079129  ...            -14.269100\n",
              "3           -7.152791  ...            -13.760200\n",
              "4           -0.347595  ...             -5.001980\n",
              "\n",
              "[5 rows x 4 columns]"
            ]
          },
          "metadata": {
            "tags": []
          },
          "execution_count": 95
        }
      ]
    }
  ]
}